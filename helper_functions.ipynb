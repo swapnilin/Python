{
  "cells": [
    {
      "cell_type": "markdown",
      "id": "b389798d",
      "metadata": {
        "id": "b389798d"
      },
      "source": [
        "# Helper Functions"
      ]
    },
    {
      "cell_type": "markdown",
      "id": "0c45749d",
      "metadata": {
        "id": "0c45749d"
      },
      "source": [
        "## What are Helper Functions and why are we covering them?"
      ]
    },
    {
      "cell_type": "markdown",
      "id": "d394674b",
      "metadata": {
        "id": "d394674b"
      },
      "source": [
        "#### Helper functions enable us to perform complex algorithms in a more concise and readable manner.\n",
        "\n",
        "#### Helper functions are useful for operations that are to be repeated over and over, or need to be called from within different places in the notebook.\n"
      ]
    },
    {
      "cell_type": "markdown",
      "id": "daff58a3",
      "metadata": {
        "id": "daff58a3"
      },
      "source": [
        "#### Helper functions break out the steps of complex logic into \"bite size\", separate, and callable functions.\n",
        "\n",
        "So instead of writing your algorithm in a series of statements, we write individual functions that we call in our algorithm.\n",
        "\n",
        "You will see (and want to use) helper functions on the exams.\n",
        "\n",
        "This is a good link explaining Helper Functions in detail:  https://bito.ai/resources/helper-function-python-python-explained/\n"
      ]
    },
    {
      "cell_type": "markdown",
      "id": "28766f55",
      "metadata": {
        "id": "28766f55"
      },
      "source": [
        "#### So let's look at a very simple example. This is intended to illustrate the concept. This is not necessarily the best way to solve such an exercise, but simply to show how a helper function works. As we go through complex exercises, particularly the practice exam problems, you will see where helper functions are useful.\n",
        "\n",
        "Recall the two step process from the prior notebook, for taking a list of names and changing them to a list of names in the format of last name, first name."
      ]
    },
    {
      "cell_type": "code",
      "execution_count": null,
      "id": "e21f5dd8",
      "metadata": {
        "scrolled": true,
        "id": "e21f5dd8"
      },
      "outputs": [],
      "source": [
        "# list of names\n",
        "presidents_usa = [\"George Washington\", \"John Adams\",\"Thomas Jefferson\",\"James Madison\",\"James Monroe\",\"Andrew Jackson\"]"
      ]
    },
    {
      "cell_type": "code",
      "execution_count": null,
      "id": "afeabdcd",
      "metadata": {
        "id": "afeabdcd"
      },
      "outputs": [],
      "source": [
        "# divide the names into first and last name elements\n",
        "split_names_var = [name.split(\" \") for name in presidents_usa]\n",
        "split_names_var"
      ]
    },
    {
      "cell_type": "code",
      "execution_count": null,
      "id": "d858dd3d",
      "metadata": {
        "id": "d858dd3d"
      },
      "outputs": [],
      "source": [
        "swapped_list_var = [split_name[1] + \", \" + split_name[0] for split_name in split_names_var]\n",
        "swapped_list_var"
      ]
    },
    {
      "cell_type": "markdown",
      "id": "961cb708",
      "metadata": {
        "id": "961cb708"
      },
      "source": [
        "### Exercise Requirement\n",
        "\n",
        "#### Write a function, `name_reverse()` that takes as input a list of names and outputs them in as a list of names, with each name in the format of `last name, first name`, in alphabetical order."
      ]
    },
    {
      "cell_type": "code",
      "execution_count": null,
      "id": "3a0597f6",
      "metadata": {
        "id": "3a0597f6"
      },
      "outputs": [],
      "source": [
        "def name_reverse(name_list):\n",
        "    # split the names into a list first and last names\n",
        "    split_names_var = [name.split(\" \") for name in name_list]\n",
        "#     print(split_names)\n",
        "\n",
        "    swapped_list_var = [split_name[1] + \", \" + split_name[0] for split_name in split_names_var]\n",
        "#     print(swapped_list)\n",
        "\n",
        "    swapped_list_var.sort()\n",
        "#     print(swapped_list)\n",
        "\n",
        "    return swapped_list_var\n"
      ]
    },
    {
      "cell_type": "code",
      "execution_count": null,
      "id": "30c396da",
      "metadata": {
        "id": "30c396da"
      },
      "outputs": [],
      "source": [
        "# test the function\n",
        "output_list = (name_reverse(presidents_usa))\n",
        "display(output_list)"
      ]
    },
    {
      "cell_type": "markdown",
      "id": "60e2f963",
      "metadata": {
        "id": "60e2f963"
      },
      "source": [
        "#### Now let's do this using helper functions, within the main function. We'll change the function name to name_reverse_helper().\n"
      ]
    },
    {
      "cell_type": "code",
      "execution_count": null,
      "id": "251e962e",
      "metadata": {
        "id": "251e962e"
      },
      "outputs": [],
      "source": [
        "def name_reverse_helper(name_list):\n",
        "\n",
        "    # this is a helper function\n",
        "    def split_names_func(list_to_split):\n",
        "        # split the names into a list first and last names\n",
        "        split_name_list = [name.split(\" \") for name in list_to_split]\n",
        "        return split_name_list\n",
        "\n",
        "     # this is another helper function\n",
        "    def swap_names_func(list_to_swap):\n",
        "        swapped_list = [swap_name[1] + \", \" + swap_name[0] for swap_name in list_to_swap]\n",
        "        return swapped_list\n",
        "\n",
        "#     call first helper function\n",
        "    first_list = split_names_func(name_list)\n",
        "#     call second helper function\n",
        "    alpha_list = swap_names_func(first_list)\n",
        "\n",
        "    alpha_list.sort()\n",
        "\n",
        "    return alpha_list"
      ]
    },
    {
      "cell_type": "code",
      "execution_count": null,
      "id": "efc66afa",
      "metadata": {
        "id": "efc66afa"
      },
      "outputs": [],
      "source": [
        "# test the function\n",
        "output_list = (name_reverse_helper(presidents_usa))\n",
        "display(output_list)"
      ]
    },
    {
      "cell_type": "markdown",
      "id": "f8958a10",
      "metadata": {
        "id": "f8958a10"
      },
      "source": [
        "#### Note that the helper functions only exist within the context of the main function. This is known as their `scope`.\n",
        "\n",
        "Python global variables/functions are those which are not defined inside any function and have a global scope within the notebook, whereas Python local variables/functions are those which are defined inside a function and their scope is limited to that function only.\n",
        "\n",
        "In other words, we can say that local variables/functions are accessible only inside the function in which it was initialized whereas the global variables/functions are accessible throughout the program and inside every other function.\n",
        "\n",
        "https://www.w3schools.com/PYTHON/python_scope.asp\n",
        "\n",
        "https://www.geeksforgeeks.org/global-local-variables-python/"
      ]
    },
    {
      "cell_type": "code",
      "execution_count": null,
      "id": "a718c1fc",
      "metadata": {
        "id": "a718c1fc"
      },
      "outputs": [],
      "source": [
        "# uncomment to illustrate error\n",
        "# the error is because this function's scope is only within the main function in which it is defined.\n",
        "# error_output = split_names_func(presidents_usa)"
      ]
    },
    {
      "cell_type": "markdown",
      "id": "a77e17ba",
      "metadata": {
        "id": "a77e17ba"
      },
      "source": [
        "### So what if we want the helper functions to be callable anywhere in the notebook?\n",
        "\n",
        "#### Define the helper functions at the notebook level (not within another function).\n",
        "\n",
        "You will see this in both homework notebooks and practice exams (and most likely the real exams that you will take).\n",
        "\n",
        "You may be provided a helper function to call, or you may want to write a helper function as a part of your solution.\n",
        "\n",
        "A good example of being provided a helper function is some complex statistical calculation. Instead of asking the student to write the function, the exam will provide it, and the student will only need to call it as a part of their solution."
      ]
    },
    {
      "cell_type": "code",
      "execution_count": null,
      "id": "24ae9def",
      "metadata": {
        "id": "24ae9def"
      },
      "outputs": [],
      "source": [
        "# this is a global helper function\n",
        "def split_names_func_global(list_to_split):\n",
        "    # split the names into a list first and last names\n",
        "    split_name_list = [name.split(\" \") for name in list_to_split]\n",
        "    return split_name_list"
      ]
    },
    {
      "cell_type": "code",
      "execution_count": null,
      "id": "634498b5",
      "metadata": {
        "id": "634498b5"
      },
      "outputs": [],
      "source": [
        "# this is another global helper function\n",
        "def swap_names_func_global(list_to_swap):\n",
        "    swapped_list = [swap_name[1] + \", \" + swap_name[0] for swap_name in list_to_swap]\n",
        "    return swapped_list"
      ]
    },
    {
      "cell_type": "markdown",
      "id": "cad84040",
      "metadata": {
        "id": "cad84040"
      },
      "source": [
        "#### Now define your function using the global helper functions."
      ]
    },
    {
      "cell_type": "code",
      "execution_count": null,
      "id": "3d4b66d8",
      "metadata": {
        "id": "3d4b66d8"
      },
      "outputs": [],
      "source": [
        "def name_reverse_helper_global(name_list):\n",
        "\n",
        "#     call first global helper function\n",
        "    first_list = split_names_func_global(name_list)\n",
        "#     call second global helper function\n",
        "    alpha_list = swap_names_func_global(first_list)\n",
        "\n",
        "    alpha_list.sort()\n",
        "\n",
        "    return alpha_list"
      ]
    },
    {
      "cell_type": "code",
      "execution_count": null,
      "id": "730b8b73",
      "metadata": {
        "id": "730b8b73"
      },
      "outputs": [],
      "source": [
        "# test the function\n",
        "output_list = (name_reverse_helper_global(presidents_usa))\n",
        "display(output_list)"
      ]
    }
  ],
  "metadata": {
    "kernelspec": {
      "display_name": "Python 3 (ipykernel)",
      "language": "python",
      "name": "python3"
    },
    "language_info": {
      "codemirror_mode": {
        "name": "ipython",
        "version": 3
      },
      "file_extension": ".py",
      "mimetype": "text/x-python",
      "name": "python",
      "nbconvert_exporter": "python",
      "pygments_lexer": "ipython3",
      "version": "3.9.13"
    },
    "colab": {
      "provenance": []
    }
  },
  "nbformat": 4,
  "nbformat_minor": 5
}