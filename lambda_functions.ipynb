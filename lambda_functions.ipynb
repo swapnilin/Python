{
  "cells": [
    {
      "cell_type": "markdown",
      "metadata": {
        "id": "Kv3f85gTPc0E"
      },
      "source": [
        "# Lambda functions (or, anonymous functions)"
      ]
    },
    {
      "cell_type": "markdown",
      "metadata": {
        "id": "18foSOmXPc0M"
      },
      "source": [
        "## Introduction"
      ]
    },
    {
      "cell_type": "markdown",
      "metadata": {
        "id": "wJhC9UxPPc0N"
      },
      "source": [
        "By now, you should appreciate how important functions are for structuring your code. Frequent use of functions helps with all of the following:\n",
        "\n",
        "- You repeat yourself less often\n",
        "- Your code is more modular\n",
        "- Your code has fewer unintended side-effects\n",
        "\n",
        "However, sometimes we just want to use a function to quickly transform some inputs into new outputs. The function has very little importance in terms of the *structure* of the program. We'd just like to use it to quickly calculate something.\n",
        "\n",
        "So, if you find yourself thinking, \"do I really have to write out a full function definition here?\" you might be able to use an anonymous function."
      ]
    },
    {
      "cell_type": "markdown",
      "metadata": {
        "id": "lF7vhFeTPc0P"
      },
      "source": [
        "## An Example"
      ]
    },
    {
      "cell_type": "markdown",
      "metadata": {
        "id": "-Rzo_5MIPc0P"
      },
      "source": [
        "The [lambda syntax](https://docs.python.org/3/reference/expressions.html#lambda) is interpreted as follows:\n",
        "\n",
        "- Take the variables passed and bind them to the names *before* the semicolon\n",
        "- Return the result of the expression *after* the semicolon\n",
        "\n",
        "We create \"anonymous functions\" by using the `lambda` keyword, which has no meaning other than “we are declaring an anonymous function.” Here's an example."
      ]
    },
    {
      "cell_type": "code",
      "execution_count": null,
      "metadata": {
        "id": "axPkxQRHPc0R"
      },
      "outputs": [],
      "source": [
        "# How would we even define this function without giving it\n",
        "# a name? (we cannot do this without using lambda expressions)\n",
        "def multiply_function(x):\n",
        "   return x * 2\n",
        "\n",
        "print(multiply_function(2))\n",
        "\n",
        "# Here, we define the function, and then assign it to the\n",
        "# variable name `equivalent_lambda`\n",
        "equivalent_lambda = lambda x: x * 2\n",
        "print(equivalent_lambda(2))"
      ]
    },
    {
      "cell_type": "markdown",
      "metadata": {
        "id": "XCEJhGgrPc0T"
      },
      "source": [
        "If we print the functions themselves, you'll see that our \"lambda\" function has no name associated with it. This is why we call them \"anonymous functions.\""
      ]
    },
    {
      "cell_type": "code",
      "execution_count": null,
      "metadata": {
        "id": "UkmzAt58Pc0U",
        "outputId": "6a138e2f-f3a5-4c8e-f38a-02c138e2fc5b"
      },
      "outputs": [
        {
          "name": "stdout",
          "output_type": "stream",
          "text": [
            "Our function is named:\n",
            "<function multiply_function at 0x7f754ba30c10>\n",
            "Our lambda function is named... <lambda>?\n",
            "<function <lambda> at 0x7f754ba312d0>\n"
          ]
        }
      ],
      "source": [
        "print(\"Our function is named:\")\n",
        "print(multiply_function)\n",
        "print(\"Our lambda function is named... <lambda>?\")\n",
        "print(equivalent_lambda)"
      ]
    },
    {
      "cell_type": "markdown",
      "metadata": {
        "id": "AQFoCeBVPc0W"
      },
      "source": [
        "## Use Cases"
      ]
    },
    {
      "cell_type": "markdown",
      "metadata": {
        "id": "9nm76jiHPc0X"
      },
      "source": [
        "Lambda functions make it easy for us to quickly define functions which aren't important in the rest of the program. We might want to do this if we have a function which takes a *second* function as an argument.\n",
        "\n",
        " Some examples of built-in functions where this is useful include:\n",
        "\n",
        "- `map()`\n",
        "- `filter()`\n",
        "- `itertools.reduce()`\n",
        "- `sorted()`\n",
        "\n",
        "Here's an example where we reduce our program from 4 lines to 2 lines, without making the program much harder to read."
      ]
    },
    {
      "cell_type": "code",
      "execution_count": null,
      "metadata": {
        "id": "RDvVeYS3Pc0Y",
        "outputId": "5c3768e1-0f66-4645-bc25-910e48870f73"
      },
      "outputs": [
        {
          "name": "stdout",
          "output_type": "stream",
          "text": [
            "Without lambda: (1, 4, 9, 16, 25)\n",
            "With lambda: (1, 4, 9, 16, 25)\n"
          ]
        }
      ],
      "source": [
        "demo_tuple = (1, 2, 3, 4, 5)\n",
        "\n",
        "# Without lambda functions\n",
        "def square_value(x):\n",
        "    return x**2\n",
        "\n",
        "squared_values = map(square_value, demo_tuple)\n",
        "print(\"Without lambda:\", tuple(squared_values))\n",
        "\n",
        "# With lambda functions\n",
        "squared_values = map(lambda x: x**2, demo_tuple)\n",
        "print(\"With lambda:\", tuple(squared_values))"
      ]
    },
    {
      "cell_type": "markdown",
      "metadata": {
        "id": "M3_Hi2k_Pc0Z"
      },
      "source": [
        "- We have an entire notebook dedicated to sorting sequences in Python. Please see the relevant bootcamp notebook for additional details."
      ]
    },
    {
      "cell_type": "markdown",
      "metadata": {
        "id": "ctFmjIK_3QBm"
      },
      "source": [
        "This pattern appears a lot when we work with non-standard Python types, such as when we use [Pandas](https://pandas.pydata.org/) data structures. We will use Pandas extensively in this course and will cover it in more depth later, so consider this an example of what's coming up.\n",
        "\n",
        "Imagine we have a \"table\" of data (which is represented as a Pandas DataFrame). If we want to apply some function to each *row* of the table, we can use the `.apply()` method and use a lambda function to do this. Here's an example.\n",
        "\n",
        "- In the example below, imagine we are tracking the scores of five different sports teams for five games."
      ]
    },
    {
      "cell_type": "code",
      "execution_count": null,
      "metadata": {
        "id": "zo9wZTGT3QBm"
      },
      "outputs": [],
      "source": [
        "import pandas as pd\n",
        "import random\n",
        "\n",
        "team_scores = pd.DataFrame(\n",
        "    {\"Team 1\": [random.randint(0, 50) for _ in range(5)],\n",
        "     \"Team 2\": [random.randint(0, 50) for _ in range(5)],\n",
        "     \"Team 3\": [random.randint(0, 50) for _ in range(5)]}\n",
        ")"
      ]
    },
    {
      "cell_type": "markdown",
      "metadata": {
        "id": "K4CnZtwb3QBm"
      },
      "source": [
        "We can use lambda functions to determine the range for each team's records, like this."
      ]
    },
    {
      "cell_type": "code",
      "execution_count": null,
      "metadata": {
        "id": "JZGt7kuK3QBm",
        "outputId": "a6047bfa-6de9-4091-db9a-ae3ab61d95a4"
      },
      "outputs": [
        {
          "data": {
            "text/plain": [
              "Team 1    18\n",
              "Team 2    34\n",
              "Team 3    34\n",
              "dtype: int64"
            ]
          },
          "execution_count": 14,
          "metadata": {},
          "output_type": "execute_result"
        }
      ],
      "source": [
        "# Without Lambda Functions\n",
        "def calc_range(x):\n",
        "    return x.max() - x.min()\n",
        "team_scores.apply(calc_range)\n",
        "\n",
        "# With Lambda Functions\n",
        "team_scores.apply(lambda x: x.max() - x.min())"
      ]
    },
    {
      "cell_type": "markdown",
      "metadata": {
        "id": "uKoTWXvxPc0Z"
      },
      "source": [
        "## Limitations"
      ]
    },
    {
      "cell_type": "markdown",
      "metadata": {
        "id": "ji5iM2fKPc0Z"
      },
      "source": [
        "You cannot do either of the following inside of a lambda function:\n",
        "\n",
        "- Leave annotations\n",
        "- Variable assignment\n",
        "\n",
        "If you have a sufficiently complicated function, it may be worth writing it out in the more traditional way."
      ]
    },
    {
      "cell_type": "markdown",
      "metadata": {
        "id": "dPy8LN_tPc0a"
      },
      "source": [
        "## Summary and References"
      ]
    },
    {
      "cell_type": "markdown",
      "metadata": {
        "id": "7lcNr1wmPc0a"
      },
      "source": [
        "Lambda functions make it easy to:\n",
        "\n",
        "- Quickly create functions which aren't important for your program's structure\n",
        "- Make your code easier to read (use fewer lines for unimportant work)\n",
        "\n",
        "The following resources may be useful if you have additional questions.\n",
        "\n",
        "- https://realpython.com/python-lambda/\n",
        "- https://www.w3schools.com/python/python_lambda.asp\n",
        "- https://www.geeksforgeeks.org/python-lambda-anonymous-functions-filter-map-reduce/"
      ]
    }
  ],
  "metadata": {
    "colab": {
      "provenance": []
    },
    "kernelspec": {
      "display_name": "Python 3",
      "language": "python",
      "name": "python3"
    },
    "language_info": {
      "codemirror_mode": {
        "name": "ipython",
        "version": 3
      },
      "file_extension": ".py",
      "mimetype": "text/x-python",
      "name": "python",
      "nbconvert_exporter": "python",
      "pygments_lexer": "ipython3",
      "version": "3.10.12"
    }
  },
  "nbformat": 4,
  "nbformat_minor": 0
}