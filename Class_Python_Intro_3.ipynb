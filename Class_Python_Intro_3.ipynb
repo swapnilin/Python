{
 "cells": [
  {
   "cell_type": "markdown",
   "id": "c0731f16",
   "metadata": {},
   "source": [
    "<a id=\"loops\"> </a>\n",
    "## 3. Conditional Statement and Loops"
   ]
  },
  {
   "cell_type": "markdown",
   "id": "747de246",
   "metadata": {},
   "source": [
    "<a id=\"if_statement\"> </a>\n",
    "## 3.1 if statement\n",
    "\n",
    "An `if` statement is used to test a condition for truth and execute the code if it is `True`\n"
   ]
  },
  {
   "cell_type": "markdown",
   "id": "92807a50",
   "metadata": {},
   "source": [
    "**syntax:**<br><br>\n",
    "if BOOLEAN EXPRESSION:<br>\n",
    "&nbsp;&nbsp;    STATEMENTS"
   ]
  },
  {
   "cell_type": "markdown",
   "id": "b46c7a2c",
   "metadata": {},
   "source": [
    "####  Now, we will see some examples on if statements"
   ]
  },
  {
   "cell_type": "code",
   "execution_count": 4,
   "id": "01204abe",
   "metadata": {},
   "outputs": [
    {
     "name": "stdout",
     "output_type": "stream",
     "text": [
      "True\n"
     ]
    }
   ],
   "source": [
    "# create a list and check for value\n",
    "my_list = ['Data Science', 'Machine Learning', 'Artificial Intelligence', 'Python']\n",
    "\n",
    "my_word = 'Python'\n",
    "\n",
    "if my_word in my_list:\n",
    "    print(True)\n",
    "    "
   ]
  },
  {
   "cell_type": "markdown",
   "id": "824fc302",
   "metadata": {},
   "source": [
    " Test if an item is a member of a list or not."
   ]
  },
  {
   "cell_type": "code",
   "execution_count": 8,
   "id": "f3d492fb",
   "metadata": {},
   "outputs": [
    {
     "name": "stdout",
     "output_type": "stream",
     "text": [
      "15\n"
     ]
    }
   ],
   "source": [
    "a = 10\n",
    "b = 5\n",
    "\n",
    "if a + b > 10:\n",
    "    print(a+b)\n",
    "    "
   ]
  },
  {
   "cell_type": "markdown",
   "id": "024ae7f4",
   "metadata": {},
   "source": [
    "<a id=\"if_else\"> </a>\n",
    "## 3.2 else statement\n",
    "\n",
    "An `else` clause can be optionally added to an if statement.\n",
    "\n",
    "* If the condition evaluates to True, code in the if part is executed.\n",
    "* If the condition evaluates to False, code in the else part is executed."
   ]
  },
  {
   "cell_type": "markdown",
   "id": "acd2698b",
   "metadata": {},
   "source": [
    "**Syntax of if...else**<br><br>\n",
    "if BOOLEAN EXPRESSION:<br>\n",
    "&nbsp;&nbsp;    STATEMENTS_1<br>\n",
    "else:<br>\n",
    "&nbsp;&nbsp;    STATEMENTS_2"
   ]
  },
  {
   "cell_type": "code",
   "execution_count": 6,
   "id": "51296444",
   "metadata": {},
   "outputs": [
    {
     "name": "stdout",
     "output_type": "stream",
     "text": [
      "Number is greater than 50\n"
     ]
    }
   ],
   "source": [
    "# 2 conditions - Check if a number is greater than 50 or less than 50\n",
    "# or write a program for username password\n",
    "\n",
    "a = 80\n",
    "\n",
    "if a < 50:\n",
    "    print('Number is less than 50')\n",
    "else:\n",
    "    print('Number is greater than 50')"
   ]
  },
  {
   "cell_type": "code",
   "execution_count": 11,
   "id": "cd516d4c",
   "metadata": {},
   "outputs": [
    {
     "name": "stdout",
     "output_type": "stream",
     "text": [
      "enter your username: sk123\n",
      "enter your password: 234\n",
      "Please check your username and password\n"
     ]
    }
   ],
   "source": [
    "user = input('enter your username: ')\n",
    "pas = input('enter your password: ')\n",
    "\n",
    "if (user == 'sk123' and pas == 'ac123'):\n",
    "    print(\"Logged in successfully.\")\n",
    "else:\n",
    "    print('Please check your username and password!')\n"
   ]
  },
  {
   "cell_type": "markdown",
   "id": "38de6041",
   "metadata": {},
   "source": [
    "<a id=\"if_elif_else\"> </a>\n",
    "## 3.3 elif statement\n",
    "\n",
    "One or more elif statements (short for \"else if\") can be optionally added in between the if and else to provide additional condition(s) to check. Sometimes two is simply not enough.\n"
   ]
  },
  {
   "cell_type": "markdown",
   "id": "c73b45b4",
   "metadata": {},
   "source": [
    "**Syntax of if elif else:**<br>\n",
    "if x < y:<br>\n",
    "&nbsp;&nbsp;    STATEMENTS_A<br>\n",
    "elif x > y:<br>\n",
    "&nbsp;&nbsp    STATEMENTS_B<br>\n",
    "else:<br>\n",
    "&nbsp;&nbsp;    STATEMENTS_C"
   ]
  },
  {
   "cell_type": "code",
   "execution_count": 5,
   "id": "f6d3826b",
   "metadata": {},
   "outputs": [
    {
     "name": "stdout",
     "output_type": "stream",
     "text": [
      "Number is greater than 50\n"
     ]
    }
   ],
   "source": [
    "# 3 conditions - Check whether the given number equals 0, greater than 50 or less than 50. \n",
    "\n",
    "num = 100\n",
    "if (num == 0):\n",
    "    print(\"Number is Zero\")\n",
    "elif (num > 50):\n",
    "    print(\"Number is greater than 50\")\n",
    "else:\n",
    "    print(\"Number is smaller than 50\")\n"
   ]
  },
  {
   "cell_type": "markdown",
   "id": "7226607c",
   "metadata": {},
   "source": [
    "<a id=\"nested_if\"> </a>\n",
    "## 3.4 nested if and if else statement\n"
   ]
  },
  {
   "cell_type": "code",
   "execution_count": 21,
   "id": "1a4cedf0",
   "metadata": {},
   "outputs": [
    {
     "name": "stdout",
     "output_type": "stream",
     "text": [
      "Enter a number: 23\n",
      "Positive number\n"
     ]
    }
   ],
   "source": [
    "num = float(input(\"Enter a number: \"))\n",
    "if num >= 0:\n",
    "    if num == 0:\n",
    "        print(\"Zero\")\n",
    "    else:\n",
    "        print(\"Positive number\")\n",
    "else:\n",
    "    print(\"Negative number\")"
   ]
  },
  {
   "cell_type": "markdown",
   "id": "93122294",
   "metadata": {},
   "source": [
    "<a id=\"forloop\"> </a>\n",
    "## 3.5 for loop\n"
   ]
  },
  {
   "cell_type": "markdown",
   "id": "9d4db168",
   "metadata": {},
   "source": [
    "**Syntax of for loop:**<br>\n",
    "for val in sequence:<br>\n",
    "&nbsp;&nbsp;\tBody of for"
   ]
  },
  {
   "cell_type": "code",
   "execution_count": 3,
   "id": "e288568c",
   "metadata": {},
   "outputs": [
    {
     "name": "stdout",
     "output_type": "stream",
     "text": [
      "1\n",
      "4\n",
      "9\n",
      "16\n",
      "25\n",
      "36\n",
      "49\n",
      "64\n"
     ]
    }
   ],
   "source": [
    "# create a list of numbers, using for loop square each number and print the numbers\n",
    "\n",
    "numbers = [1, 2, 3, 4, 5, 6, 7, 8]\n",
    "\n",
    "# iterate over the list\n",
    "for val in numbers:\n",
    "    print(val**2)\n",
    "    "
   ]
  },
  {
   "cell_type": "markdown",
   "id": "342983fb",
   "metadata": {},
   "source": [
    "<a id=\"whileloop\"> </a>\n",
    "## 3.6 while loop\n",
    "\n",
    "* A while loop looks very similar to an `if` statement. Just like an if statement, it executes the code if the condition is `True`.\n",
    "\n",
    "* However, the difference is that the while loop will continue to execute the code inside of it, over and over again, as long as the condition is True. \n",
    "\n",
    "* In other words, instead of executing once if a condition is `true`, it executes again and again while that condition is `true`.\n",
    "\n",
    "* The second that the condition becomes `false`, the program exits the while loop."
   ]
  },
  {
   "cell_type": "markdown",
   "id": "d944644b",
   "metadata": {},
   "source": [
    "**Syntax of while loop:**<br>\n",
    "while (expression):<br>\n",
    "&nbsp;&nbsp;     statement_1<br>\n",
    "&nbsp;&nbsp;     statement_2<br>\n",
    "    ...."
   ]
  },
  {
   "cell_type": "code",
   "execution_count": 5,
   "id": "84380ac0",
   "metadata": {},
   "outputs": [
    {
     "name": "stdout",
     "output_type": "stream",
     "text": [
      "1\n",
      "2\n",
      "3\n",
      "4\n",
      "5\n"
     ]
    }
   ],
   "source": [
    "# print the first 5 digits\n",
    "\n",
    "i = 1\n",
    "while i < 6:\n",
    "    print(i)\n",
    "    i = i+1\n"
   ]
  },
  {
   "cell_type": "markdown",
   "id": "4a7659f9",
   "metadata": {},
   "source": [
    "**Note:** If the condition is False from the start, then the code block wouldn't run at all and will be skipped."
   ]
  },
  {
   "cell_type": "markdown",
   "id": "15eadd81",
   "metadata": {},
   "source": [
    "<a id=\"break_statement\"> </a>\n",
    "## 3.7 break statement\n"
   ]
  },
  {
   "cell_type": "code",
   "execution_count": 5,
   "id": "99ebc6bc",
   "metadata": {},
   "outputs": [
    {
     "name": "stdout",
     "output_type": "stream",
     "text": [
      "1\n",
      "4\n",
      "9\n"
     ]
    }
   ],
   "source": [
    "# create a list of numbers, and if numebr is 4; break out\n",
    "# use the same example from for loop\n",
    "\n",
    "numbers = [1, 2, 3, 4, 5, 6, 7, 8]\n",
    "\n",
    "\n",
    "# iterate over the list, and break with a condition.\n",
    "for val in numbers:\n",
    "    if val == 4:\n",
    "        break\n",
    "    print(val**2)\n"
   ]
  },
  {
   "cell_type": "markdown",
   "id": "5d1a79e4",
   "metadata": {},
   "source": [
    "    "
   ]
  },
  {
   "cell_type": "markdown",
   "id": "def953ef",
   "metadata": {},
   "source": [
    "Break and continue are hard conditions on a for or while loop. They are used to handle exceptions. For e.g. 'if customer not found, or value is missing, `continue` do not stop.\n"
   ]
  },
  {
   "cell_type": "markdown",
   "id": "77aec6f3",
   "metadata": {},
   "source": [
    "### <a id=\"continue_statement\"> </a>\n",
    "## 3.8 continue statement\n"
   ]
  },
  {
   "cell_type": "code",
   "execution_count": 6,
   "id": "6e0de9ff",
   "metadata": {},
   "outputs": [
    {
     "name": "stdout",
     "output_type": "stream",
     "text": [
      "1\n",
      "4\n",
      "9\n",
      "25\n",
      "36\n",
      "49\n",
      "64\n"
     ]
    }
   ],
   "source": [
    "# create a list of numbers, and if numebr is 4; continue to next iteration\n",
    "# use the same break example and see the difference\n",
    "\n",
    "\n",
    "numbers = [1, 2, 3, 4, 5, 6, 7, 8]\n",
    "\n",
    "\n",
    "# iterate over the list, and break with a condition.\n",
    "for val in numbers:\n",
    "    if val == 4:\n",
    "        continue\n",
    "    print(val**2)\n"
   ]
  },
  {
   "cell_type": "markdown",
   "id": "fc0a0129",
   "metadata": {},
   "source": [
    "Use the continue statement in a while loop"
   ]
  },
  {
   "cell_type": "code",
   "execution_count": 26,
   "id": "6f6a4479",
   "metadata": {
    "scrolled": true
   },
   "outputs": [
    {
     "name": "stdout",
     "output_type": "stream",
     "text": [
      "1\n",
      "2\n",
      "4\n",
      "5\n",
      "6\n",
      "7\n",
      "8\n",
      "9\n"
     ]
    }
   ],
   "source": [
    "i = 0\n",
    "while i < 9:\n",
    "    i += 1\n",
    "    if i == 3:\n",
    "        continue\n",
    "    print(i)"
   ]
  },
  {
   "cell_type": "markdown",
   "id": "a98040eb",
   "metadata": {},
   "source": [
    "    "
   ]
  },
  {
   "cell_type": "markdown",
   "id": "877130b2",
   "metadata": {},
   "source": [
    "## <span style=\"color:darkred\">Quick Exercise</span>\n",
    "\n",
    "Fizz Buzz is a children's word game that teaches division. It's also a classic technical interview question.\n",
    "\n",
    "Write a program that outputs numbers from 1 to 10. Here's the catch:\n",
    "\n",
    "* For multiples of 3, print `Fizz` instead of the number.\n",
    "* For multiples of 5, print `Buzz` instead of the number.\n",
    "* Here's the tricky part: For multiples of 3 and 5, print `FizzBuzz`."
   ]
  },
  {
   "cell_type": "markdown",
   "id": "d02980a1",
   "metadata": {},
   "source": [
    "Expected output:\n",
    "\n",
    "1\n",
    "2\n",
    "Fizz\n",
    "4\n",
    "Buzz\n",
    "Fizz\n",
    "7\n",
    "8\n",
    "Fizz\n",
    "Buzz"
   ]
  },
  {
   "cell_type": "code",
   "execution_count": null,
   "id": "abffb650",
   "metadata": {},
   "outputs": [],
   "source": []
  }
 ],
 "metadata": {
  "kernelspec": {
   "display_name": "Python 3 (ipykernel)",
   "language": "python",
   "name": "python3"
  },
  "language_info": {
   "codemirror_mode": {
    "name": "ipython",
    "version": 3
   },
   "file_extension": ".py",
   "mimetype": "text/x-python",
   "name": "python",
   "nbconvert_exporter": "python",
   "pygments_lexer": "ipython3",
   "version": "3.9.13"
  }
 },
 "nbformat": 4,
 "nbformat_minor": 5
}
