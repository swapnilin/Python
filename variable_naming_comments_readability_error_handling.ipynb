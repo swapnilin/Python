{
  "cells": [
    {
      "cell_type": "markdown",
      "id": "945c9b8f",
      "metadata": {
        "id": "945c9b8f"
      },
      "source": [
        "# Naming best practices and code readability"
      ]
    },
    {
      "cell_type": "markdown",
      "id": "4a9bd493",
      "metadata": {
        "id": "4a9bd493"
      },
      "source": [
        "### When writing code in Python, it’s important to make sure that your code can be easily understood by others. Below are the 3 ways to do this:\n",
        "\n",
        "1. Giving variables obvious names.\n",
        "\n",
        "2. Defining explicit functions.\n",
        "\n",
        "3. Organizing your code.\n",
        "\n",
        "#### Add descriptive comments.\n",
        "1. What am I doing at each step? Why am I doing it?\n",
        "\n",
        "2. What is my thought process here?\n",
        "\n",
        "#### Naming variables.\n",
        "1. Use variable names with meaning (import_data, return_list).\n",
        "\n",
        "2. Use a consistent naming convention (LoopCounter, loop_counter).\n",
        "\n",
        "#### Use spacing and line breaks to improve readability."
      ]
    },
    {
      "cell_type": "markdown",
      "id": "56e6eb88",
      "metadata": {
        "id": "56e6eb88"
      },
      "source": [
        "### Bad way to name variables"
      ]
    },
    {
      "cell_type": "code",
      "execution_count": null,
      "id": "d773e7ed",
      "metadata": {
        "id": "d773e7ed"
      },
      "outputs": [],
      "source": [
        "lst = [\"bananas\",\"butter\",\"cheese\",\"toothpaste\"]\n",
        "\n",
        "for i in lst:\n",
        "    print(i)"
      ]
    },
    {
      "cell_type": "code",
      "execution_count": null,
      "id": "53249dd2",
      "metadata": {
        "id": "53249dd2"
      },
      "outputs": [],
      "source": [
        "lst1 = ['butter','milk','eggs','cheese']\n",
        "lst2 = ['tomatoes','carrot','spinach','cabbage']\n",
        "lst3 = ['ham','chicken','tuna','turkey']"
      ]
    },
    {
      "cell_type": "markdown",
      "id": "0c3e5d42",
      "metadata": {
        "id": "0c3e5d42"
      },
      "source": [
        "### A better way"
      ]
    },
    {
      "cell_type": "code",
      "execution_count": null,
      "id": "5b052f22",
      "metadata": {
        "id": "5b052f22"
      },
      "outputs": [],
      "source": [
        "groceries = [\"bananas\",\"butter\",\"cheese\",\"toothpaste\"]\n",
        "\n",
        "for i in groceries:\n",
        "    print(i)"
      ]
    },
    {
      "cell_type": "markdown",
      "id": "29bc922e",
      "metadata": {
        "id": "29bc922e"
      },
      "source": [
        "### Even better"
      ]
    },
    {
      "cell_type": "code",
      "execution_count": null,
      "id": "fb44b849",
      "metadata": {
        "id": "fb44b849"
      },
      "outputs": [],
      "source": [
        "groceries = [\"bananas\",\"butter\",\"cheese\",\"toothpaste\"]\n",
        "\n",
        "for grocery in groceries:\n",
        "    print(grocery)"
      ]
    },
    {
      "cell_type": "code",
      "execution_count": null,
      "id": "e237f14f",
      "metadata": {
        "id": "e237f14f"
      },
      "outputs": [],
      "source": [
        "dairy_list = ['butter','milk','eggs','cheese']\n",
        "veg_list = ['tomatoes','carrot','spinach','cabbage']\n",
        "meat_list = ['ham','chicken','tuna','turkey']"
      ]
    },
    {
      "cell_type": "code",
      "execution_count": null,
      "id": "12ccc08d",
      "metadata": {
        "id": "12ccc08d"
      },
      "outputs": [],
      "source": [
        "for dairy_item in dairy_list:\n",
        "    print(dairy_item)\n",
        "print('\\n')\n",
        "\n",
        "for veg_item in veg_list:\n",
        "    print(veg_item)\n",
        "print('\\n')\n",
        "\n",
        "for meat_item in meat_list:\n",
        "    print(meat_item)"
      ]
    },
    {
      "cell_type": "markdown",
      "id": "b73d24d5",
      "metadata": {
        "id": "b73d24d5"
      },
      "source": [
        "### camelCase vs under_scores"
      ]
    },
    {
      "cell_type": "markdown",
      "id": "4abb82fb",
      "metadata": {
        "id": "4abb82fb"
      },
      "source": [
        "More details here - https://dewitters.com/dewitters-tao-of-coding/"
      ]
    },
    {
      "cell_type": "markdown",
      "id": "583668c1",
      "metadata": {
        "id": "583668c1"
      },
      "source": [
        "### Good naming and commenting"
      ]
    },
    {
      "cell_type": "markdown",
      "id": "52904607",
      "metadata": {
        "id": "52904607"
      },
      "source": [
        "#### As mentioned above, here are 3 good commenting practices for students to use:\n",
        "\n",
        "1. Giving variables obvious names\n",
        "2. Defining explicit functions\n",
        "3. Organizing your code"
      ]
    },
    {
      "cell_type": "markdown",
      "id": "ad0103cc",
      "metadata": {
        "id": "ad0103cc"
      },
      "source": [
        "### Different ways to comment in Python"
      ]
    },
    {
      "cell_type": "code",
      "execution_count": null,
      "id": "266c3985",
      "metadata": {
        "id": "266c3985"
      },
      "outputs": [],
      "source": [
        "# This is a comment\n",
        "# You can use the keys crtl + / (in Windows) to comment single and multiple lines"
      ]
    },
    {
      "cell_type": "code",
      "execution_count": null,
      "id": "43f0ef2e",
      "metadata": {
        "id": "43f0ef2e"
      },
      "outputs": [],
      "source": [
        "print(\"This will run.\")  # Run this"
      ]
    },
    {
      "cell_type": "code",
      "execution_count": null,
      "id": "516f2d66",
      "metadata": {
        "id": "516f2d66"
      },
      "outputs": [],
      "source": [
        "def multiline_example():\n",
        "    # This is a pretty good example\n",
        "    # of how you can spread comments\n",
        "    # over multiple lines in Python\n",
        "    pass"
      ]
    },
    {
      "cell_type": "markdown",
      "id": "a40007d1",
      "metadata": {
        "id": "a40007d1"
      },
      "source": [
        "While the below cell gives you the multiline functionality, this isn’t technically a comment. It’s a string that’s not assigned to any variable, so it’s not called or referenced by your program. Still, since it will be ignored at runtime, it can effectively act as a comment."
      ]
    },
    {
      "cell_type": "code",
      "execution_count": null,
      "id": "1afe3153",
      "metadata": {
        "id": "1afe3153"
      },
      "outputs": [],
      "source": [
        "\n",
        "\"\"\"\n",
        "If I really hate pressing `enter` and\n",
        "typing all those hash marks, I could\n",
        "just do this instead\n",
        "\n",
        "\"\"\""
      ]
    },
    {
      "cell_type": "markdown",
      "id": "817cfe13",
      "metadata": {
        "id": "817cfe13"
      },
      "source": [
        "### Writing comments"
      ]
    },
    {
      "cell_type": "code",
      "execution_count": 1,
      "id": "0438c7b6",
      "metadata": {
        "id": "0438c7b6"
      },
      "outputs": [],
      "source": [
        "def get_sum(x: float, y: float) -> float:\n",
        "    \"\"\"\n",
        "    Calculate the sum of two numbers.\n",
        "\n",
        "    Args:\n",
        "    x (float): The first number\n",
        "    y (float): The second number\n",
        "\n",
        "    Returns:\n",
        "    float: The sum of x and y\n",
        "    \"\"\"\n",
        "    return x + y"
      ]
    },
    {
      "cell_type": "code",
      "source": [
        "get_sum(1,2)"
      ],
      "metadata": {
        "id": "G5qLLV5pgbEA"
      },
      "id": "G5qLLV5pgbEA",
      "execution_count": null,
      "outputs": []
    },
    {
      "cell_type": "markdown",
      "id": "fb14a825",
      "metadata": {
        "id": "fb14a825"
      },
      "source": [
        "### How to practice commenting"
      ]
    },
    {
      "cell_type": "markdown",
      "id": "48fcd9e9",
      "metadata": {
        "id": "48fcd9e9"
      },
      "source": [
        "1. Start writing comments for yourself in your own code. Make it a point to include simple comments wherever they would be helpful for your (current and future) understanding.\n",
        "2. Add some clarity to complex functions, and put a docstring at the top of all your scripts.\n",
        "3. Go back and review old code that you’ve written. See where anything might not make sense, and clean up the code."
      ]
    },
    {
      "cell_type": "markdown",
      "id": "e5a250c1",
      "metadata": {
        "id": "e5a250c1"
      },
      "source": [
        "### Examples"
      ]
    },
    {
      "cell_type": "markdown",
      "id": "03bcdeb5",
      "metadata": {
        "id": "03bcdeb5"
      },
      "source": [
        "#### Bad"
      ]
    },
    {
      "cell_type": "code",
      "execution_count": null,
      "id": "b1cafe57",
      "metadata": {
        "id": "b1cafe57"
      },
      "outputs": [],
      "source": [
        "print('one'); print('two')\n",
        "x=1\n",
        "if x == 1: print('one')\n",
        "\n",
        "# The issue is readability. The code is not indented.\n",
        "# if <complex comparison> and <other complex comparison>:\n",
        "    # do something"
      ]
    },
    {
      "cell_type": "markdown",
      "id": "089503d3",
      "metadata": {
        "id": "089503d3"
      },
      "source": [
        "#### Good"
      ]
    },
    {
      "cell_type": "code",
      "execution_count": null,
      "id": "c210ad68",
      "metadata": {
        "id": "c210ad68"
      },
      "outputs": [],
      "source": [
        "print('one')\n",
        "print('two')\n",
        "\n",
        "if x == 1:\n",
        "    print('one')\n",
        "\n",
        "# # uncomment for run through\n",
        "# cond1 = <complex comparison>\n",
        "# cond2 = <other complex comparison>\n",
        "# if cond1 and cond2:\n",
        "#     # do something"
      ]
    },
    {
      "cell_type": "markdown",
      "id": "b86b843b",
      "metadata": {
        "id": "b86b843b"
      },
      "source": [
        "\n",
        "**I highly recommend watching this video** - A masterclass to teach you all Python best practices - https://www.youtube.com/watch?v=ubGeHQRjNog"
      ]
    },
    {
      "cell_type": "markdown",
      "id": "57877afb",
      "metadata": {
        "id": "57877afb"
      },
      "source": [
        "# Errors :\n",
        "## These are going to make your life miserable this semester\n",
        "### But Python helps you a lot to identify where the problem is.... and you can easily learn how to fix them!"
      ]
    },
    {
      "cell_type": "markdown",
      "id": "ec91f024",
      "metadata": {
        "id": "ec91f024"
      },
      "source": [
        "### Understanding Traceback\n",
        "Python generates traceback when an exception occurs during the execution of the python program. There are two conditions the python program gets into problems while the program is executed.\n",
        "\n",
        "1. **Syntax Error** - If the program is not properly coded, the program gets into error at the time of compilation itself. You need to write the correct code; then, only the program will progress to the next lines.\n",
        "\n",
        "\n",
        "2. **Logical Error (Exception)** - This error happens only during the execution, and it surfaces only when an exceptional condition occurs within the program. The exceptional condition occurs due to the supply of wrong data, and the program is not designed to manage the extraneous condition."
      ]
    },
    {
      "cell_type": "markdown",
      "id": "a2a47c62",
      "metadata": {
        "id": "a2a47c62"
      },
      "source": [
        "![pic1.png](https://github.com/gt-cse-6040/bootcamp/blob/main/Module%200/Session%202/pic1.png?raw=1)"
      ]
    },
    {
      "cell_type": "markdown",
      "id": "ecac35a2",
      "metadata": {
        "id": "ecac35a2"
      },
      "source": [
        "### How to read the coding error messages\n",
        "1. The arrow always points to the line of code that failed.\n",
        "\n",
        "### Let’s look at a coding error message in the function below."
      ]
    },
    {
      "cell_type": "code",
      "source": [
        "# This code has a syntax error\n",
        "print(\"Hello, world!\"  # Missing closing parenthesis"
      ],
      "metadata": {
        "id": "pw-zZfgbi9Gi"
      },
      "id": "pw-zZfgbi9Gi",
      "execution_count": null,
      "outputs": []
    },
    {
      "cell_type": "code",
      "source": [
        "# Correct version would be:\n",
        "print(\"Hello, world!\")"
      ],
      "metadata": {
        "id": "S_LHy01-jANh"
      },
      "id": "S_LHy01-jANh",
      "execution_count": null,
      "outputs": []
    },
    {
      "cell_type": "code",
      "source": [
        "# this code will throw and exception\n",
        "def divide(a, b):\n",
        "    return a / b\n",
        "\n",
        "# This will throw a ZeroDivisionError\n",
        "result = divide(10, 0)\n",
        "print(result)"
      ],
      "metadata": {
        "id": "3RR1iGl8jXXu"
      },
      "id": "3RR1iGl8jXXu",
      "execution_count": null,
      "outputs": []
    },
    {
      "cell_type": "code",
      "execution_count": null,
      "id": "26a75b0a",
      "metadata": {
        "id": "26a75b0a"
      },
      "outputs": [],
      "source": [
        "# will throw error for improper indentation\n",
        "def Division():\n",
        "A = Num / Den\n",
        "print (\"Quotient \", A)\n",
        "\n",
        "Num = int (input (\"numerator \"))\n",
        "Den = int (input (\"denominator \"))\n",
        "\n",
        "Division()\n"
      ]
    },
    {
      "cell_type": "code",
      "execution_count": null,
      "id": "a96cac9d",
      "metadata": {
        "id": "a96cac9d"
      },
      "outputs": [],
      "source": [
        "# This is correct.\n",
        "def Division():\n",
        "    Num = int (input (\"numerator \"))\n",
        "    Den = int (input (\"denominator \"))\n",
        "    A = Num / Den\n",
        "    print (\"Quotient \", A)\n",
        "\n",
        "Division()\n",
        "# input 0 denominator to see error message structure"
      ]
    },
    {
      "cell_type": "markdown",
      "source": [
        "#### What you see is the ERROR TRACEBACK.\n",
        "1. The BOTTOM ARROW will always point to the line of code that directly caused the failure. It may be a line of code in your notebook, or a line of code from the underlying Python system.\n",
        "\n",
        "2. The TOP ARROW will point to the initial line of code that was executed, and you can start here, working down, to see the sequence of code that was executed (not every line will be shown).\n",
        "\n",
        "3. If your function is calling other functions within your notebook, each of those lines will be included in the error trace.\n",
        "\n",
        "4. What you want to do is work your way down to the first line of code (arrowed to) that is from the notebook, and that you wrote. This will tell you where your underlying problem is.\n",
        "\n",
        "#### The bottom of the error block will give the ERROR TEXT. If you do not understand what this text means, GOOGLE SEARCH THE TEXT!!\n",
        "\n",
        "#### Here is the link to an excellent article to understand how to read error messages and the traceback:  https://realpython.com/python-traceback/"
      ],
      "metadata": {
        "id": "KuIwL7K2iC3u"
      },
      "id": "KuIwL7K2iC3u"
    }
  ],
  "metadata": {
    "kernelspec": {
      "display_name": "Python 3 (ipykernel)",
      "language": "python",
      "name": "python3"
    },
    "language_info": {
      "codemirror_mode": {
        "name": "ipython",
        "version": 3
      },
      "file_extension": ".py",
      "mimetype": "text/x-python",
      "name": "python",
      "nbconvert_exporter": "python",
      "pygments_lexer": "ipython3",
      "version": "3.9.13"
    },
    "colab": {
      "provenance": []
    }
  },
  "nbformat": 4,
  "nbformat_minor": 5
}