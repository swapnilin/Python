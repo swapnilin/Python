{
  "cells": [
    {
      "cell_type": "markdown",
      "id": "ea694165",
      "metadata": {
        "id": "ea694165"
      },
      "source": [
        "# Pandas Functions for Data Analysis\n",
        "\n",
        "1. **apply(), and groupby() with apply()**\n",
        "2. **nlargest(), nsmallest(), using sum, and mean functions**\n",
        "3. **boolean mask**\n",
        "4. **complex analysis using all of the above**   "
      ]
    },
    {
      "cell_type": "markdown",
      "id": "9a561af0",
      "metadata": {
        "id": "9a561af0"
      },
      "source": [
        "## The purpose of this notebook is to work through some pandas functions and concepts that are commonly used in data analysis, in a problem-solving format.\n",
        "\n",
        "## The types of analyses that we cover here are ones that you could possibly be asked to recreate in some fashion, before the semester's end."
      ]
    },
    {
      "cell_type": "code",
      "execution_count": null,
      "id": "4292f063",
      "metadata": {
        "id": "4292f063"
      },
      "outputs": [],
      "source": [
        "!wget https://raw.githubusercontent.com/gt-cse-6040/bootcamp/main/Module%201/Session%202/nba_stats.csv\n",
        "!wget https://raw.githubusercontent.com/gt-cse-6040/bootcamp/main/Module%201/Session%202/worst_players.csv\n",
        "!wget https://raw.githubusercontent.com/gt-cse-6040/bootcamp/main/Module%201/Session%202/best_players.csv\n",
        "!wget https://raw.githubusercontent.com/gt-cse-6040/bootcamp/main/Module%201/Session%202/top_rebs.csv\n",
        "!wget https://raw.githubusercontent.com/gt-cse-6040/bootcamp/main/Module%201/Session%202/top_mins.csv"
      ]
    },
    {
      "cell_type": "code",
      "execution_count": null,
      "id": "4c736fc0",
      "metadata": {
        "id": "4c736fc0"
      },
      "outputs": [],
      "source": [
        "# some modules we will need\n",
        "import pandas as pd\n",
        "import numpy as np"
      ]
    },
    {
      "cell_type": "markdown",
      "id": "fe355e3d",
      "metadata": {
        "id": "fe355e3d"
      },
      "source": [
        "We will be using some data from the National Basketball Association's (NBA) statistics API for this exercise. The data is from the 2017-2020 seasons and includes the major statistics for players.\n",
        "\n",
        "We will import the data into a dataframe called nba_stats and take a quick look at the data."
      ]
    },
    {
      "cell_type": "code",
      "execution_count": null,
      "id": "4cdda691",
      "metadata": {
        "id": "4cdda691"
      },
      "outputs": [],
      "source": [
        "# load the data file\n",
        "# bring in the sample output file\n",
        "nba_stats = pd.read_csv('nba_stats.csv')\n",
        "# create df with only the columns we want to work with\n",
        "nba_stats= nba_stats[['SEASON_ID','PLAYER_ID','PLAYER_NAME','GP','MIN','PTS','REB','PLUS_MINUS']]\n",
        "nba_stats = nba_stats.rename(columns={\"GP\": \"GAMES_PLAYED\", \"MIN\": \"MINUTES\",\"PTS\": \"POINTS\", \"REB\": \"REBOUNDS\"})"
      ]
    },
    {
      "cell_type": "markdown",
      "id": "a3b6b894",
      "metadata": {
        "id": "a3b6b894"
      },
      "source": [
        "### Before we get started on the functions, let's take a quick look at some of the key data fields that we will be working with, and some fields whose meaning may not be easily discernble from the name.\n",
        "\n",
        "- `PLAYER_ID` - The unique ID number for each player.\n",
        "- `SEASON_ID` - The ID number for each season. The combination of PLAYER_ID and SEASON_ID gives us the primary key for the dataframe.\n",
        "- `PLAYER_NAME` - The name of each player.\n",
        "\n",
        "#### Note that there are 2,139 rows in the dataframe. That means we have 2,139 unique player-season combinations.\n",
        "\n",
        "- `GAMES_PLAYED` through `PLUS_MINUS` columns- The individual statistics for the player for that season. Whenever we are working with one of the columns, we will define what that column means in the exercise."
      ]
    },
    {
      "cell_type": "markdown",
      "id": "dccaa26f",
      "metadata": {
        "id": "dccaa26f"
      },
      "source": [
        "#### The info() and describe() functions are good to use when first looking at a dataframe.\n",
        "\n",
        "info() gives us column information, and describe() gives us some statistical measurements of the dataframe."
      ]
    },
    {
      "cell_type": "code",
      "execution_count": null,
      "id": "fddb8e0e",
      "metadata": {
        "id": "fddb8e0e"
      },
      "outputs": [],
      "source": [
        "nba_stats.info()\n",
        "nba_stats.describe()"
      ]
    },
    {
      "cell_type": "markdown",
      "id": "96906027",
      "metadata": {
        "id": "96906027"
      },
      "source": [
        "## The apply() function\n",
        "\n",
        "#### `apply()` is used to apply a function to a data frame or to a series (column of the data frame).\n",
        "\n",
        "The basic way to use the function is:\n",
        "\n",
        "out = `dataframe`.apply(`func`)\n",
        "\n",
        "https://pandas.pydata.org/pandas-docs/stable/reference/api/pandas.DataFrame.apply.html"
      ]
    },
    {
      "cell_type": "markdown",
      "id": "44335399",
      "metadata": {
        "id": "44335399"
      },
      "source": [
        "### Use the apply() function on a single column of the dataframe"
      ]
    },
    {
      "cell_type": "markdown",
      "id": "060de27f",
      "metadata": {
        "id": "060de27f"
      },
      "source": [
        "Pass a built-in function to apply().\n",
        "\n",
        "What is the average number of games that a player played in during any season?"
      ]
    },
    {
      "cell_type": "code",
      "execution_count": null,
      "id": "1cd58707",
      "metadata": {
        "id": "1cd58707"
      },
      "outputs": [],
      "source": [
        "# note the syntax of using the DOUBLE BRACKETS around the column name.\n",
        "mean_value = nba_stats[['GAMES_PLAYED']].apply(np.mean)\n",
        "print(mean_value)\n",
        "\n",
        "nba_stats[['GAMES_PLAYED']].apply(np.mean)"
      ]
    },
    {
      "cell_type": "markdown",
      "id": "40c282a9",
      "metadata": {
        "id": "40c282a9"
      },
      "source": [
        "#### We can also use the apply function on multiple columns or the entire dataframe, but to do so, all of the dataframe columns must be able to be operated on by the function we are applying.\n",
        "\n",
        "#### With this data, we can apply to multiple columns that are INT and FLOAT, but not to the entire dataframe, because we also have OBJECT data types.\n",
        "\n",
        "What is the average number of games, points scored, and rebounds for the typical player in a season?"
      ]
    },
    {
      "cell_type": "code",
      "execution_count": null,
      "id": "bfdfeaff",
      "metadata": {
        "scrolled": true,
        "id": "bfdfeaff"
      },
      "outputs": [],
      "source": [
        "nba_stats[['GAMES_PLAYED','POINTS','REBOUNDS']].apply(np.mean)\n",
        "\n",
        "# returns value error of \"could not convert string to float\"\n",
        "# nba_stats.apply(np.mean)"
      ]
    },
    {
      "cell_type": "markdown",
      "id": "1aaea437",
      "metadata": {
        "id": "1aaea437"
      },
      "source": [
        "As you can see, the function returns a value for each column.\n",
        "\n",
        "That is to say, the default way of apply( ) dealing with a dataframe is to take a whole column each time and operate on that column with the function passed.\n",
        "\n",
        "We can change this default setting by specifying the `axis` parameter, in which axis=0 (the default) applies by column and axis=1 applies by row. We will not demonstrate row-based apply with this dataset."
      ]
    },
    {
      "cell_type": "markdown",
      "id": "65ac91e7",
      "metadata": {
        "id": "65ac91e7"
      },
      "source": [
        "### Remember the groupby() function from the last notebook.\n",
        "\n",
        "A `groupby()` operation involves some combination of splitting the object, applying a function, and combining the results. This can be used to group large amounts of data and compute operations on these groups.\n",
        "\n",
        "The basic way to use the function is:\n",
        "\n",
        "out = `dataframe`.groupby(by=columnname).`function`()\n",
        "\n",
        "For example:\n",
        "\n",
        "df.groupby(by=[\"b\"]).sum()\n",
        "\n",
        "https://pandas.pydata.org/pandas-docs/stable/reference/api/pandas.DataFrame.groupby.html"
      ]
    },
    {
      "cell_type": "markdown",
      "id": "8615e245",
      "metadata": {
        "id": "8615e245"
      },
      "source": [
        "On this dataset, an example might be:"
      ]
    },
    {
      "cell_type": "code",
      "execution_count": null,
      "id": "2808f866",
      "metadata": {
        "id": "2808f866"
      },
      "outputs": [],
      "source": [
        "nba_stats.groupby(by=[\"SEASON_ID\"]).mean()"
      ]
    },
    {
      "cell_type": "markdown",
      "id": "76bc4f2a",
      "metadata": {
        "id": "76bc4f2a"
      },
      "source": [
        "#### So what `groupby()` on its own does is a dataframe-wide grouping of every `APPLICABLE` column of the passed-in function, using the \"by\" parameter that we set.\n",
        "\n",
        "#### Note that the `groupby()` above does not include the OBJECT column of PLAYER_NAME.\n",
        "\n",
        "#### Also note that the column `PLAYER_ID` is included, because it is data type `int64`."
      ]
    },
    {
      "cell_type": "markdown",
      "id": "c31fe5ee",
      "metadata": {
        "id": "c31fe5ee"
      },
      "source": [
        "However, we very seldom want to group an entire df in our analyses. Instead we want to generally:\n",
        "\n",
        "1. Return statistical analyses for individual or multiple columns\n",
        "2. Grouped by multiple dimensions (columns).\n",
        "\n",
        "### So how do we do that? By using `groupby()` and `apply()` together."
      ]
    },
    {
      "cell_type": "markdown",
      "id": "e1d3fc9e",
      "metadata": {
        "id": "e1d3fc9e"
      },
      "source": [
        "**The syntax for a single column looks like:**\n",
        "\n",
        "`dataframe.groupby('columnname').apply(function)`\n",
        "\n",
        "**The syntax for a multiple columns looks like:**\n",
        "\n",
        "`dataframe.groupby(['columnname1','columnname2']).apply(function)`\n",
        "\n",
        "Remember that using `axis=0` (the default) will apply the given function to each *column* and `axis=1` will apply the given function to each *row*.\n",
        "\n",
        "While `Series.apply` works on individual values and `DataFrame.apply` works on `Series` objects (rows or columns are instances of `Series`), `groupby.apply` works on `DataFrame` objects. The cell below is applying the `print` function to each `DataFrame` or \"group\" in the `groupby`!"
      ]
    },
    {
      "cell_type": "code",
      "execution_count": null,
      "id": "098aa45f",
      "metadata": {
        "id": "098aa45f"
      },
      "outputs": [],
      "source": [
        "nba_stats.groupby('SEASON_ID').apply(np.sum, axis=0)"
      ]
    },
    {
      "cell_type": "code",
      "execution_count": null,
      "id": "51d47f84",
      "metadata": {
        "id": "51d47f84"
      },
      "outputs": [],
      "source": [
        "nba_stats.groupby('SEASON_ID').apply(np.mean, axis=0)"
      ]
    },
    {
      "cell_type": "markdown",
      "id": "b15f6b97",
      "metadata": {
        "id": "b15f6b97"
      },
      "source": [
        "#### Note the difference in behavior between apply() alone, groupby() alone, and groupby.apply() together. This is important for students to understand!!\n",
        "\n",
        "1. `apply()` by itself gives us the function result for the columns/rows **IT IS ABLE TO OPERATE ON**.\n",
        "\n",
        "    As we saw above, if we try to perform a function on an incompatible column/row, it will return an error.\n",
        "\n",
        "\n",
        "2. `groupby()` by itself ALSO gives us the function result for the columns/rows **IT IS ABLE TO OPERATE ON**.\n",
        "\n",
        "    However, it will **SIMPLY NOT INCLUDE** the columns that the function cannot operate on in, the result set.\n",
        "\n",
        "\n",
        "3. `groupby()` `apply()` together will return the function result for the columns/rows **IT IS ABLE TO OPERATE ON**, similar to `groupby()` alone.\n",
        "    \n",
        "    However, the difference is with the PLAYER_NAME column, in that the sum() function \"added\" the player names by concatenating (using \"+\") the strings together.\n",
        "    \n",
        "    Using np.mean() gave us the result with the \"nuisance columns\" error message."
      ]
    },
    {
      "cell_type": "markdown",
      "id": "5ebdd09d",
      "metadata": {
        "id": "5ebdd09d"
      },
      "source": [
        "## So what is the problem with the above approach? And how can we fix it?\n",
        "\n",
        "### The problem is that, depending on the function we are using (sum vs. mean, for example), some columns may be included in (or excluded from) the returned data frame. So we may get results that we are not expecting, and the test cases will fail as a result.\n",
        "\n",
        "### So how do we fix that and prevent it from happening?\n",
        "\n",
        "`1. Create a new dataframe by keeping only the columns necessary for that particular analysis.`\n",
        "\n",
        "`2. (Optional) Set your columns to groupby as indices on the new dataframe.(This ensures that you are not grouping extraneous columns, for functions such as sum())`\n",
        "\n",
        "`3. Perform the required groupby/apply/function on the new dataframe.`\n",
        "\n",
        "`4. (Optional) Set the index columns to be regular columns.`\n",
        "\n",
        "\n",
        "#### Below are additional steps that the (exam/homework) exercise may require.\n",
        "\n",
        "\n",
        "`5. Merge the returned dataframe with the other dataframe(s) required by the analysis.`\n",
        "\n",
        "`6. Drop the extraneous columns in the new/merged dataframe.`\n",
        "\n",
        "`7. Rename the remaining columns, per the exercise requirements.`"
      ]
    },
    {
      "cell_type": "markdown",
      "id": "5371c8ea",
      "metadata": {
        "id": "5371c8ea"
      },
      "source": [
        "### So how might we want to use this is in a real (or testing) scenario?\n",
        "\n",
        "Return a dataframe that summarizes the total minutes, games played, points, and rebounds for each player, over the 4 seasons.\n",
        "\n",
        "Use your dataframe, nba_stats, as the starting point."
      ]
    },
    {
      "cell_type": "markdown",
      "id": "5f9942e9",
      "metadata": {
        "id": "5f9942e9"
      },
      "source": [
        "#### What is our strategy for solving this problem?\n",
        "\n",
        "1. Create a dataframe with only the columns required.\n",
        "\n",
        "2. Set the grouping columns to be indexes (optional).\n",
        "\n",
        "3. Perform groupby and apply for the sum.\n",
        "\n",
        "4. Set the indexes back to be regular columns.\n",
        "\n",
        "5. Perform additional steps as required by the exercise requirements."
      ]
    },
    {
      "cell_type": "code",
      "execution_count": null,
      "id": "e464291b",
      "metadata": {
        "id": "e464291b"
      },
      "outputs": [],
      "source": [
        "# create new dataframe with only the required columns\n",
        "nba_stats_test = nba_stats[['PLAYER_NAME','GAMES_PLAYED','POINTS','REBOUNDS']]\n",
        "print(' New dataframe')\n",
        "print(nba_stats_test.head(5))\n",
        "\n",
        "# (optional) set the grouping columns to be indexes\n",
        "nba_stats_test = nba_stats_test.set_index(['PLAYER_NAME'])\n",
        "print('\\n Column as index')\n",
        "print(nba_stats_test.head(5))\n",
        "\n",
        "# perform the groupby.apply\n",
        "nba_stats_test2 = nba_stats_test.groupby('PLAYER_NAME').apply(np.sum, axis=0)\n",
        "print('\\n Grouping')\n",
        "print(nba_stats_test2.head(5))\n",
        "\n",
        "# set the index columns back to be regular columns\n",
        "nba_stats_test2.reset_index(inplace=True)\n",
        "print('\\n Set index back to column')\n",
        "print(nba_stats_test2)\n",
        "\n",
        "# perform whatever other steps the analysis requires"
      ]
    },
    {
      "cell_type": "markdown",
      "id": "319326b2",
      "metadata": {
        "id": "319326b2"
      },
      "source": [
        "#### So what if we did not set the column to be an index? What would happen then? Compare the results below with those above."
      ]
    },
    {
      "cell_type": "code",
      "execution_count": null,
      "id": "9a0fde4f",
      "metadata": {
        "id": "9a0fde4f"
      },
      "outputs": [],
      "source": [
        "# create new dataframe with only the required columns\n",
        "nba_stats_test = nba_stats[['PLAYER_NAME','GAMES_PLAYED','POINTS','REBOUNDS']]\n",
        "print(' New dataframe')\n",
        "print(nba_stats_test.head(5))\n",
        "\n",
        "# (optional) set the grouping columns to be indexes\n",
        "# commented out here\n",
        "# nba_stats_test = nba_stats_test.set_index(['PLAYER_NAME'])\n",
        "# print(nba_stats_test.head(5))\n",
        "\n",
        "# perform the groupby.apply\n",
        "nba_stats_test2 = nba_stats_test.groupby('PLAYER_NAME').apply(np.sum, axis=0)\n",
        "print('\\n Grouping')\n",
        "print(nba_stats_test2.head(5))\n",
        "\n",
        "# set the index columns back to be regular columns\n",
        "# commented out here\n",
        "# nba_stats_test2.reset_index(inplace=True)\n",
        "# nba_stats_test2\n",
        "\n",
        "# perform whatever other steps the analysis requires"
      ]
    },
    {
      "cell_type": "markdown",
      "id": "cbd96946",
      "metadata": {
        "id": "cbd96946"
      },
      "source": [
        "### Some good references\n",
        "\n",
        "https://pandas.pydata.org/pandas-docs/stable/reference/api/pandas.core.groupby.SeriesGroupBy.apply.html\n",
        "\n",
        "https://datagy.io/pandas-groupby/\n",
        "\n",
        "https://www.geeksforgeeks.org/grouping-and-aggregating-with-pandas/\n",
        "\n",
        "https://datagy.io/pandas-exploratory-data-analysis/\n",
        "\n",
        "https://stackabuse.com/efficient-data-manipulation-with-apply-function-in-pandas/"
      ]
    },
    {
      "cell_type": "markdown",
      "id": "0e6ed021",
      "metadata": {
        "id": "0e6ed021"
      },
      "source": [
        "### Any questions up to this point?"
      ]
    },
    {
      "cell_type": "markdown",
      "id": "b9f67c77",
      "metadata": {
        "id": "b9f67c77"
      },
      "source": [
        "### Now let's use some functions to do a more complex analysis, by player and season. What we are about to go over would be typical for a multi-point exercise on an exam.\n",
        "\n",
        "**We will create a new dataframe, `nba_stats_3`, for this, using the previous dataframe, `nba_stats`. This dataframe will have `PLAYER_NAME` and `SEASON_ID` as the grouping columns, and we will take the optional step to set them as the indices.**"
      ]
    },
    {
      "cell_type": "code",
      "execution_count": null,
      "id": "3c9dacb7",
      "metadata": {
        "id": "3c9dacb7"
      },
      "outputs": [],
      "source": [
        "nba_stats_3 = nba_stats.set_index(['SEASON_ID','PLAYER_NAME'])\n",
        "print('\\n Column as index')\n",
        "print(nba_stats_3.head(5))"
      ]
    },
    {
      "cell_type": "markdown",
      "id": "4e205b23",
      "metadata": {
        "id": "4e205b23"
      },
      "source": [
        "**Requirement**:  \n",
        "\n",
        "Return a dataframe, top_rebs, containing the player name and season for the top 5 number of rebounds across the 4 seasons.\n",
        "    \n",
        "    Include the top 5 plus ties. In other words, if there are ties, keep all of the results, even if it results in more than 5 rows being returned.\n",
        "    \n",
        "    The dataframe should be sorted from most to least, with ties broken by name in alphabetical order.\n",
        "\n",
        "Use the nba_stats_3 dataframe as the input for this.\n",
        "\n",
        "The output dataframe should have the following columns:  `player`, `season`, `total_rebounds`."
      ]
    },
    {
      "cell_type": "markdown",
      "id": "46fbaa87",
      "metadata": {
        "id": "46fbaa87"
      },
      "source": [
        "## Pandas Functions `nlargest()` and `nsmallest()`"
      ]
    },
    {
      "cell_type": "markdown",
      "id": "e21d9168",
      "metadata": {
        "id": "e21d9168"
      },
      "source": [
        "To meet this requirement, we will want to use the pandas function:  `nlargest()`. The function `nsmallest()` operates in the same manner, and you would want to use this if the exercise requirement was for the least/lowest number of rows.\n",
        "\n",
        "We have explicitly stated what function to use here, but on an exam, you might see something like \"the pandas function nlargest might be useful for this exercise\".\n",
        "\n",
        "The requirement on ties is satisfied by the parameter \"keep\", and the value of \"all\".\n",
        "\n",
        "https://pandas.pydata.org/pandas-docs/stable/reference/api/pandas.DataFrame.nlargest.html\n",
        "\n",
        "https://pandas.pydata.org/pandas-docs/stable/reference/api/pandas.DataFrame.nsmallest.html"
      ]
    },
    {
      "cell_type": "markdown",
      "id": "ac705f6e",
      "metadata": {
        "id": "ac705f6e"
      },
      "source": [
        "#### What is our strategy for solving this problem?\n",
        "\n",
        "1. Create a dataframe with only the columns required.\n",
        "\n",
        "2. Return/keep only the top 5 in the dataframe.\n",
        "\n",
        "3. Set the indexes to be columns.\n",
        "\n",
        "4. Rename the columns.\n",
        "\n",
        "5. Sort the dataframe."
      ]
    },
    {
      "cell_type": "code",
      "execution_count": null,
      "id": "bee57214",
      "metadata": {
        "id": "bee57214"
      },
      "outputs": [],
      "source": [
        "# create the dataframe with only the columns required\n",
        "top_rebs = nba_stats_3[['REBOUNDS']]\n",
        "\n",
        "# now return only the top 5\n",
        "top_rebs = top_rebs.nlargest(5, 'REBOUNDS', keep=\"all\")\n",
        "\n",
        "# set the indexes to be columns\n",
        "top_rebs.reset_index(inplace=True)\n",
        "\n",
        "# rename the columns\n",
        "top_rebs.rename(columns={\"PLAYER_NAME\": \"player\", \"SEASON_ID\": \"season\", \"REBOUNDS\": \"total_rebounds\"}, inplace=True)\n",
        "\n",
        "# sort the dataframe\n",
        "top_rebs.sort_values(['total_rebounds', 'player'], ascending=[False, True],inplace=True)\n",
        "\n",
        "top_rebs"
      ]
    },
    {
      "cell_type": "markdown",
      "id": "929a678c",
      "metadata": {
        "id": "929a678c"
      },
      "source": [
        "Your solution should match the dataframe below."
      ]
    },
    {
      "cell_type": "code",
      "execution_count": null,
      "id": "2d5f5cb0",
      "metadata": {
        "id": "2d5f5cb0"
      },
      "outputs": [],
      "source": [
        "top_rebs_soln = pd.read_csv('top_rebs.csv')\n",
        "top_rebs_soln"
      ]
    },
    {
      "cell_type": "markdown",
      "id": "33d5cde3",
      "metadata": {
        "id": "33d5cde3"
      },
      "source": [
        "### What are your questions on this exercise?"
      ]
    },
    {
      "cell_type": "markdown",
      "id": "d8807fde",
      "metadata": {
        "id": "d8807fde"
      },
      "source": [
        "**Requirement**:  \n",
        "\n",
        "Return a dataframe, top_mins, containing the player name for the top 10 average number of minutes for the 4 seasons together.\n",
        "\n",
        "    This means that we want to add up the total number of minutes the player has played and divide by the number of seasons, to get the average. Round the average to 1 decimal place, after sorting. The final dataframe indexes should be from 0 to 9 (or higher, if there are ties).\n",
        "\n",
        "Include the top 10 plus ties. The final dataframe indexes should be from 0 to 9 (or higher, if there are ties).\n",
        "\n",
        "The dataframe should be sorted from most to least, with ties broken by name in reverse alphabetical order. Minutes are in the column MIN.\n",
        "\n",
        "Use the nba_stats_3 dataframe as the input for this.\n",
        "\n",
        "The output dataframe should have the following columns:  `player`, `seasons_played`, `avg_minutes`."
      ]
    },
    {
      "cell_type": "markdown",
      "id": "42721144",
      "metadata": {
        "id": "42721144"
      },
      "source": [
        "#### What is our strategy for solving this problem?\n",
        "\n",
        "0. Remember that the dataframe has SEASON_ID and PLAYER_NAME as indexes (see above).\n",
        "\n",
        "1. Create two working dataframes, one to summarize minutes, the other to count seasons played.\n",
        "\n",
        "2. With the average minutes dataframe:\n",
        "\n",
        "    Compute the average minutes\n",
        "    \n",
        "    Rename the MINUTES column\n",
        "    \n",
        "    Set the indexes to be columns\n",
        "    \n",
        "\n",
        "2. With the seasons played dataframe:\n",
        "\n",
        "    Compute the number of seasons each player played in\n",
        "    \n",
        "    Rename the MINUTES column\n",
        "    \n",
        "    Set the indexes to be columns\n",
        "    \n",
        "    \n",
        "3. Merge the two dataframes\n",
        "\n",
        "4. Rename the columns and keep only those columns required (two steps).\n",
        "\n",
        "5. Keep only the top 10.\n",
        "\n",
        "6. Drop the index column (created from the previous step)\n",
        "\n",
        "7. Sort the dataframe.\n",
        "\n",
        "8. Round the average minutes to one decimal place."
      ]
    },
    {
      "cell_type": "code",
      "execution_count": null,
      "id": "49641541",
      "metadata": {
        "id": "49641541"
      },
      "outputs": [],
      "source": [
        "# create the mins_df (working) dataframe with only the columns required\n",
        "mins_df = nba_stats_3[['MINUTES']]\n",
        "\n",
        "# compute the average minutes for each player\n",
        "top_mins = mins_df.groupby(\"PLAYER_NAME\").mean()\n",
        "# rename the MINUTES column\n",
        "top_mins.rename(columns={\"MINUTES\": \"avg_minutes\"}, inplace=True)\n",
        "# set the index to be a column\n",
        "top_mins.reset_index(inplace=True)\n",
        "\n",
        "# compute how many seasons each played\n",
        "num_seasons = mins_df.groupby(by=[\"PLAYER_NAME\"]).count()\n",
        "# rename the MINUTES column\n",
        "num_seasons.rename(columns={\"MINUTES\": \"seasons_played\"}, inplace=True)\n",
        "# set the indexes to be columns\n",
        "num_seasons = num_seasons.reset_index()\n",
        "\n",
        "# merge the two dataframes\n",
        "top_mins = top_mins.merge(num_seasons, how='inner')\n",
        "\n",
        "# rename the PLAYER_NAME column\n",
        "top_mins.rename(columns={\"PLAYER_NAME\": \"player\"}, inplace=True)\n",
        "# only keep the required columns\n",
        "top_mins = top_mins[['player','seasons_played','avg_minutes']]\n",
        "\n",
        "#now only keep the 10 highest, plus ties\n",
        "top_mins = top_mins.nlargest(10, 'avg_minutes', keep=\"all\").reset_index()\n",
        "# drop the index column\n",
        "del top_mins['index']\n",
        "\n",
        "# sort the dataframe\n",
        "top_mins.sort_values(['avg_minutes', 'player'], ascending=[False, False],inplace=True)\n",
        "\n",
        "# round the avg_minutes column to one decimal place\n",
        "top_mins = top_mins.round({'avg_minutes': 1})\n",
        "\n",
        "top_mins"
      ]
    },
    {
      "cell_type": "markdown",
      "id": "e2a47892",
      "metadata": {
        "id": "e2a47892"
      },
      "source": [
        "Your solution should match the dataframe below."
      ]
    },
    {
      "cell_type": "code",
      "execution_count": null,
      "id": "6b07fb19",
      "metadata": {
        "id": "6b07fb19"
      },
      "outputs": [],
      "source": [
        "top_mins_soln = pd.read_csv('top_mins.csv')\n",
        "top_mins_soln"
      ]
    },
    {
      "cell_type": "markdown",
      "id": "70adb806",
      "metadata": {
        "id": "70adb806"
      },
      "source": [
        "### What are your questions on this exercise?"
      ]
    },
    {
      "cell_type": "markdown",
      "id": "cc7d190b",
      "metadata": {
        "id": "cc7d190b"
      },
      "source": [
        "### Now let's look at Boolean Masks.\n",
        "\n",
        "#### What is a boolean mask?\n",
        "\n",
        "While boolean masks are typically used with numpy arrays, they can also be applied to pandas dataframes.\n",
        "\n",
        "We will introduce the concept here and later cover how they are used with numpy arrays, which is a bit different from how they are used with pandas.\n",
        "\n",
        "Conceptually, they are similar in pandas and numpy, but how each implements them is different.\n",
        "\n",
        "**In pandas, a mask is used to filter and return only the rows that meet a certain condition.**\n",
        "\n",
        "With pandas, we can use one of the comparison operators (`<, >, >=, <=, ==`), the `isin()` function, or the `contains()` function for strings.\n",
        "\n",
        "Vanderplas has an EXCELLENT introduction to masks in his book, focused on numpy. Chapter linked to here:  https://jakevdp.github.io/PythonDataScienceHandbook/02.06-boolean-arrays-and-masks.html"
      ]
    },
    {
      "cell_type": "code",
      "execution_count": null,
      "id": "2e310134",
      "metadata": {
        "id": "2e310134"
      },
      "outputs": [],
      "source": [
        "# mask to filter by comparison\n",
        "minutes_mask = nba_stats['MINUTES'] >= 2000\n",
        "minutes_mask"
      ]
    },
    {
      "cell_type": "code",
      "execution_count": null,
      "id": "84240e1a",
      "metadata": {
        "id": "84240e1a"
      },
      "outputs": [],
      "source": [
        "# filter the dataframe using the mask\n",
        "high_minutes = nba_stats[minutes_mask]\n",
        "high_minutes"
      ]
    },
    {
      "cell_type": "code",
      "execution_count": null,
      "id": "be8b38da",
      "metadata": {
        "id": "be8b38da"
      },
      "outputs": [],
      "source": [
        "# filter the dataframe directly, without creating the mask\n",
        "# as a separate dataframe\n",
        "high_minutes_2 = nba_stats[nba_stats['MINUTES'] >= 2000]\n",
        "high_minutes_2"
      ]
    },
    {
      "cell_type": "markdown",
      "id": "046864e7",
      "metadata": {
        "id": "046864e7"
      },
      "source": [
        "Note that the index returned is that of the index in the original dataframes. To reset the index to only those rows in the masked dataframe, use reset_index()."
      ]
    },
    {
      "cell_type": "code",
      "execution_count": null,
      "id": "41b0ae9c",
      "metadata": {
        "id": "41b0ae9c"
      },
      "outputs": [],
      "source": [
        "# mask to filter by comparison\n",
        "high_minutes_idx = nba_stats[minutes_mask].reset_index()\n",
        "high_minutes_idx"
      ]
    },
    {
      "cell_type": "code",
      "execution_count": null,
      "id": "de0eae64",
      "metadata": {
        "id": "de0eae64"
      },
      "outputs": [],
      "source": [
        "# mask using isin()\n",
        "season_2017_mask = nba_stats['SEASON_ID'].isin([22017])\n",
        "season_2017_mask"
      ]
    },
    {
      "cell_type": "code",
      "execution_count": null,
      "id": "45e10831",
      "metadata": {
        "id": "45e10831"
      },
      "outputs": [],
      "source": [
        "# mask using isin(), with reset_index()\n",
        "season_2017 = nba_stats[season_2017_mask].reset_index()\n",
        "season_2017"
      ]
    },
    {
      "cell_type": "code",
      "execution_count": null,
      "id": "2aae6bd8",
      "metadata": {
        "id": "2aae6bd8"
      },
      "outputs": [],
      "source": [
        "# mask using isin(), with reset_index()\n",
        "season_2017_2 = nba_stats[nba_stats['SEASON_ID'].isin([22017])].reset_index()\n",
        "season_2017_2"
      ]
    },
    {
      "cell_type": "markdown",
      "id": "2fbeb3bb",
      "metadata": {
        "id": "2fbeb3bb"
      },
      "source": [
        "#### Now let's do a multiple comparison mask.\n",
        "\n",
        "`Return the players with 2000 or more minutes in the 2017 and 2018 seasons.`"
      ]
    },
    {
      "cell_type": "code",
      "execution_count": null,
      "id": "7a041a86",
      "metadata": {
        "id": "7a041a86"
      },
      "outputs": [],
      "source": [
        "# mask to filter by multiple comparison\n",
        "multiple_mask = (nba_stats['MINUTES'] >= 2000) & (nba_stats['SEASON_ID'].isin([22017,22018]))\n",
        "multiple_mask"
      ]
    },
    {
      "cell_type": "code",
      "execution_count": null,
      "id": "6c1550b6",
      "metadata": {
        "id": "6c1550b6"
      },
      "outputs": [],
      "source": [
        "# return the dataframe\n",
        "high_minutes_idx = nba_stats[multiple_mask].reset_index()\n",
        "high_minutes_idx"
      ]
    },
    {
      "cell_type": "markdown",
      "id": "91e81b0f",
      "metadata": {
        "id": "91e81b0f"
      },
      "source": [
        "#### Let's do a string comparison mask.\n",
        "\n",
        "`Return all of the season stats for players named Anthony, in either their first or last names (or both).`"
      ]
    },
    {
      "cell_type": "code",
      "execution_count": null,
      "id": "00ab0731",
      "metadata": {
        "id": "00ab0731"
      },
      "outputs": [],
      "source": [
        "name_anthony_mask = nba_stats['PLAYER_NAME'].str.contains('Anthony')\n",
        "name_anthony_mask"
      ]
    },
    {
      "cell_type": "code",
      "execution_count": null,
      "id": "f50f6ef4",
      "metadata": {
        "id": "f50f6ef4"
      },
      "outputs": [],
      "source": [
        "# mask to filter by string comparison\n",
        "# return all of the players named Anthony\n",
        "name_anthony = nba_stats[name_anthony_mask].reset_index()\n",
        "name_anthony"
      ]
    },
    {
      "cell_type": "markdown",
      "id": "cfda4019",
      "metadata": {
        "id": "cfda4019"
      },
      "source": [
        "#### What if we only wanted an array of the player's names, and not their season statistics?\n",
        "\n",
        "Use the `unique()` function, which returns an array.\n",
        "\n",
        "https://pandas.pydata.org/pandas-docs/stable/reference/api/pandas.unique.html"
      ]
    },
    {
      "cell_type": "code",
      "execution_count": null,
      "id": "e0c9180f",
      "metadata": {
        "id": "e0c9180f"
      },
      "outputs": [],
      "source": [
        "name_anthony[\"PLAYER_NAME\"].unique()"
      ]
    },
    {
      "cell_type": "markdown",
      "id": "4adef352",
      "metadata": {
        "id": "4adef352"
      },
      "source": [
        "### Now let's do a more complex analysis, one that might be typical for a 2 or 3 point question on an exam."
      ]
    },
    {
      "cell_type": "markdown",
      "id": "b9679118",
      "metadata": {
        "id": "b9679118"
      },
      "source": [
        "**Requirement**:\n",
        "\n",
        "In the NBA, for a player to lead in any statistical category, he must have played in a minimum number of games. For a full season, that number is 58 games. If you are interested in a full explanation of the requirements, see the link below.\n",
        "\n",
        "Write a function, `top_ten_scorers(df,min_games,season_id)` that returns the top 10 scoring leaders, in points per game, for any given season.\n",
        "\n",
        "1. Return a dataframe, top_scorers, containing the player name for the top 10 average points per game for any season, for players who meet the minimum number of games qualification.\n",
        "\n",
        "2. Round the average to 1 decimal place, after sorting. The final dataframe indexes should be from 0 to 9 (or higher, if there are ties).\n",
        "\n",
        "3. Include the top 10 plus ties. The final dataframe indexes should be from 0 to 9 (or higher, if there are ties).\n",
        "\n",
        "4. The dataframe should be sorted from most to least, with ties broken by name in alphabetical order.\n",
        "\n",
        "5. The nba_stats dataframe will be the input for this, along with the season to be filtered for and minimum number of games to qualify.\n",
        "\n",
        "6. The output dataframe should have the following columns:  `player`, `games`, `points`, `PPG`.\n",
        "\n",
        "https://www.nba.com/stats/help/statminimums"
      ]
    },
    {
      "cell_type": "markdown",
      "id": "c0579de8",
      "metadata": {
        "id": "c0579de8"
      },
      "source": [
        "#### What is our strategy for solving this problem?\n",
        "\n",
        "1. Create a dataframe with only the rows required, using a boolean mask.\n",
        "\n",
        "2. Create the column `PPG`.\n",
        "\n",
        "3. Keep only the required columns in the dataframe.\n",
        "\n",
        "4. Rename the columns.\n",
        "\n",
        "5. Return/keep only the top 10 for PPG in the dataframe, and reset the index.\n",
        "\n",
        "6. Drop the index column.\n",
        "\n",
        "7. Sort the dataframe.\n",
        "\n",
        "8. Round PPG to one decimal place."
      ]
    },
    {
      "cell_type": "code",
      "execution_count": null,
      "id": "a674c203",
      "metadata": {
        "id": "a674c203"
      },
      "outputs": [],
      "source": [
        "def top_ten_scorers(df, min_games, season_id):\n",
        "    ###\n",
        "    ###YOUR CODE HERE\n",
        "\n",
        "    # return a dataframe with players from the 2018 season who meet the 58 game minimum requirement\n",
        "    # using boolean mask\n",
        "    top_scorers = nba_stats[(nba_stats['GAMES_PLAYED'] >= min_games) & (nba_stats['SEASON_ID'].isin([season_id]))].reset_index()\n",
        "\n",
        "    # # create the column PPG\n",
        "    top_scorers['PPG'] = top_scorers['POINTS'] / top_scorers['GAMES_PLAYED']\n",
        "\n",
        "    # # # keep only the required columns\n",
        "    # top_scorers = top_scorers[['PLAYER_NAME','GAMES_PLAYED','POINTS','PPG']]\n",
        "\n",
        "    # rename the columns\n",
        "    top_scorers.rename(columns={\"PLAYER_NAME\": \"player\",\"GAMES_PLAYED\": \"games\",\"POINTS\": \"points\"}, inplace=True)\n",
        "    # only keep the required columns\n",
        "    top_scorers = top_scorers[['player','games','points','PPG']]\n",
        "\n",
        "    # now only keep the 10 highest, plus ties\n",
        "    top_scorers = top_scorers.nlargest(10, 'PPG', keep=\"all\").reset_index()\n",
        "    # drop the index column\n",
        "    del top_scorers['index']\n",
        "\n",
        "    # sort the dataframe\n",
        "    top_scorers.sort_values(['PPG', 'player'], ascending=[False, True],inplace=True)\n",
        "\n",
        "    # round the avg_minutes column to one decimal place\n",
        "    top_scorers = top_scorers.round({'PPG': 1})\n",
        "\n",
        "    return top_scorers\n",
        "\n",
        "# test dataframe\n",
        "top_scoring_players = top_ten_scorers(nba_stats,58,22018)\n",
        "top_scoring_players"
      ]
    },
    {
      "cell_type": "markdown",
      "id": "90e1819f",
      "metadata": {
        "id": "90e1819f"
      },
      "source": [
        "Your dataframe results should match those at this link:  https://www.espn.com/nba/stats/_/season/2019/seasontype/2"
      ]
    },
    {
      "cell_type": "markdown",
      "id": "5e94a0a5",
      "metadata": {
        "id": "5e94a0a5"
      },
      "source": [
        "### What are your questions on this exercise, and on the notebook as a whole?"
      ]
    },
    {
      "cell_type": "markdown",
      "id": "23bdd689",
      "metadata": {
        "id": "23bdd689"
      },
      "source": [
        "### Extra Credit, for fun (will not be covered during Bootcamp live session)"
      ]
    },
    {
      "cell_type": "markdown",
      "id": "010ede96",
      "metadata": {
        "id": "010ede96"
      },
      "source": [
        "**Requirement**:\n",
        "\n",
        "In the NBA, the metric `PLUS_MINUS` provides a single number for the value of a player. The metric is defined as the difference between the number of points the player's team scores, minus the number of points the opposing team scores, during the time that the player is in the game.\n",
        "\n",
        "A positive number means that, over the course of the season, the player's team scored that many more points than their opponents when he was on the court. Likewise for a negative number, his team scored that many fewer points.\n",
        "\n",
        "In general, the best players have the highest `PLUS_MINUS`, and the worst player have the lowest `PLUS_MINUS`.\n",
        "\n",
        "So let's see who the best and worst players were, during the 2020 season.\n",
        "\n",
        "Return a dataframe, best_players, containing the top 10 players and their `PLUS_MINUS` value. Include the top 10 plus ties. The final dataframe indexes should be from 0 to 9 (or higher, if there are ties). The dataframe should be sorted from most to least, with ties broken by name in reverse alphabetical order.  \n",
        "\n",
        "Additionally, return a dataframe, worst_players, containing the bottom 10 players and their `PLUS_MINUS` value. Include the bottom 10 plus ties. The final dataframe indexes should be from 0 to 9 (or higher, if there are ties). The dataframe should be sorted from lowest value to highest value, with ties broken by name in alphabetical order.\n",
        "\n",
        "The output dataframes should have the following columns:  `PLAYER_NAME`, `PLUS_MINUS`. There is no need to rename the columns from their original names in the source dataframe for this exercise.\n",
        "\n",
        "Use the nba_stats_2 dataframe as the input for this.\n",
        "\n",
        "The `nsmallest()` function is analogous to `nlargest` for finding the smallest values.\n",
        "\n",
        "https://pandas.pydata.org/pandas-docs/stable/reference/api/pandas.DataFrame.nsmallest.html\n",
        "\n",
        "\n",
        "\n"
      ]
    },
    {
      "cell_type": "code",
      "execution_count": null,
      "id": "cd8ccb16",
      "metadata": {
        "id": "cd8ccb16"
      },
      "outputs": [],
      "source": [
        "# best players here\n",
        "# keep only the 2020 season players\n",
        "best_players = nba_stats[nba_stats['SEASON_ID'].isin([22020])].reset_index()\n",
        "\n",
        "# # keep only the required columns\n",
        "best_players = best_players[['PLAYER_NAME','PLUS_MINUS']]\n",
        "\n",
        "# now only keep the 10 highest, plus ties\n",
        "best_players = best_players.nlargest(10, 'PLUS_MINUS', keep=\"all\").reset_index()\n",
        "# drop the index column\n",
        "del best_players['index']\n",
        "\n",
        "# sort the dataframe\n",
        "best_players.sort_values(['PLUS_MINUS', 'PLAYER_NAME'], ascending=[False, True],inplace=True)\n",
        "\n",
        "best_players"
      ]
    },
    {
      "cell_type": "markdown",
      "id": "ea8db381",
      "metadata": {
        "id": "ea8db381"
      },
      "source": [
        "Your solution should match the dataframe below."
      ]
    },
    {
      "cell_type": "code",
      "execution_count": null,
      "id": "985c6269",
      "metadata": {
        "id": "985c6269"
      },
      "outputs": [],
      "source": [
        "best_players_soln = pd.read_csv('best_players.csv')\n",
        "best_players_soln"
      ]
    },
    {
      "cell_type": "code",
      "execution_count": null,
      "id": "dbef19c0",
      "metadata": {
        "id": "dbef19c0"
      },
      "outputs": [],
      "source": [
        "# worst players here\n",
        "# keep only the 2020 season players\n",
        "worst_players = nba_stats[nba_stats['SEASON_ID'].isin([22020])].reset_index()\n",
        "\n",
        "# # keep only the required columns\n",
        "worst_players = worst_players[['PLAYER_NAME','PLUS_MINUS']]\n",
        "\n",
        "# now only keep the 10 highest, plus ties\n",
        "worst_players = worst_players.nsmallest(10, 'PLUS_MINUS', keep=\"all\").reset_index()\n",
        "# drop the index column\n",
        "del worst_players['index']\n",
        "\n",
        "# sort the dataframe\n",
        "worst_players.sort_values(['PLUS_MINUS', 'PLAYER_NAME'], ascending=[True, True],inplace=True)\n",
        "\n",
        "worst_players"
      ]
    },
    {
      "cell_type": "markdown",
      "id": "8dcdf99b",
      "metadata": {
        "id": "8dcdf99b"
      },
      "source": [
        "Your solution should match the dataframe below."
      ]
    },
    {
      "cell_type": "code",
      "execution_count": null,
      "id": "f5977ab2",
      "metadata": {
        "id": "f5977ab2"
      },
      "outputs": [],
      "source": [
        "worst_players_soln = pd.read_csv('worst_players.csv')\n",
        "worst_players_soln"
      ]
    },
    {
      "cell_type": "code",
      "execution_count": null,
      "id": "8f576fe9",
      "metadata": {
        "id": "8f576fe9"
      },
      "outputs": [],
      "source": []
    }
  ],
  "metadata": {
    "kernelspec": {
      "display_name": "Python 3 (ipykernel)",
      "language": "python",
      "name": "python3"
    },
    "language_info": {
      "codemirror_mode": {
        "name": "ipython",
        "version": 3
      },
      "file_extension": ".py",
      "mimetype": "text/x-python",
      "name": "python",
      "nbconvert_exporter": "python",
      "pygments_lexer": "ipython3",
      "version": "3.9.13"
    },
    "colab": {
      "provenance": []
    }
  },
  "nbformat": 4,
  "nbformat_minor": 5
}