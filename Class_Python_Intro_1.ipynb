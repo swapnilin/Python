{
 "cells": [
  {
   "cell_type": "markdown",
   "metadata": {
    "id": "ftCxC4m1WwN4"
   },
   "source": [
    "## **Python Variables**"
   ]
  },
  {
   "cell_type": "markdown",
   "metadata": {
    "id": "loqrEgAPWwN6"
   },
   "source": [
    "#### Declaring and assigning a value to a variable\n",
    "We use the assignment operator  '='  to assign a value to a variable."
   ]
  },
  {
   "cell_type": "code",
   "execution_count": 2,
   "metadata": {
    "id": "EEiXyGNbWwN7"
   },
   "outputs": [],
   "source": [
    "num = 20"
   ]
  },
  {
   "cell_type": "code",
   "execution_count": 4,
   "metadata": {},
   "outputs": [
    {
     "data": {
      "text/plain": [
       "20"
      ]
     },
     "execution_count": 4,
     "metadata": {},
     "output_type": "execute_result"
    }
   ],
   "source": [
    "num"
   ]
  },
  {
   "cell_type": "markdown",
   "metadata": {
    "id": "Rge6hHBdWwN9"
   },
   "source": [
    "The operand to the left of the = operator is the name of the variable and the operand to the right of the = operator is the value stored in the variable. Here, we have created a variabe named `'num'` and we have assigned value `20` to `'num'` variable."
   ]
  },
  {
   "cell_type": "markdown",
   "metadata": {
    "id": "PKGTWcsRWwN-"
   },
   "source": [
    "#### Multiple assignments\n",
    "Python allows you to assign a single value to several variables simultaneously. For example −"
   ]
  },
  {
   "cell_type": "code",
   "execution_count": 5,
   "metadata": {
    "id": "PRlyM9DOWwN_"
   },
   "outputs": [
    {
     "data": {
      "text/plain": [
       "5"
      ]
     },
     "execution_count": 5,
     "metadata": {},
     "output_type": "execute_result"
    }
   ],
   "source": [
    "#assign value 5 to variables x,y,z\n",
    "x=y=z=5\n",
    "x"
   ]
  },
  {
   "cell_type": "code",
   "execution_count": 7,
   "metadata": {},
   "outputs": [
    {
     "name": "stdout",
     "output_type": "stream",
     "text": [
      "5\n",
      "5\n"
     ]
    }
   ],
   "source": [
    "print(y)\n",
    "print(z)"
   ]
  },
  {
   "cell_type": "markdown",
   "metadata": {
    "id": "65HAH67RWwOB"
   },
   "source": [
    "You can also assign multiple objects to multiple variables"
   ]
  },
  {
   "cell_type": "code",
   "execution_count": 8,
   "metadata": {
    "id": "rOUYRr38WwOB"
   },
   "outputs": [],
   "source": [
    "a,b,c = 5, 'Hello', 1.2"
   ]
  },
  {
   "cell_type": "code",
   "execution_count": 12,
   "metadata": {},
   "outputs": [
    {
     "data": {
      "text/plain": [
       "1.2"
      ]
     },
     "execution_count": 12,
     "metadata": {},
     "output_type": "execute_result"
    }
   ],
   "source": [
    "c"
   ]
  },
  {
   "cell_type": "markdown",
   "metadata": {
    "id": "XcpVNMYeF9Qp"
   },
   "source": [
    "#### Re-assigning a variable"
   ]
  },
  {
   "cell_type": "code",
   "execution_count": 14,
   "metadata": {
    "id": "i9okOotLF9Qq"
   },
   "outputs": [
    {
     "data": {
      "text/plain": [
       "'Nick'"
      ]
     },
     "execution_count": 14,
     "metadata": {},
     "output_type": "execute_result"
    }
   ],
   "source": [
    "var1 = 20\n",
    "var2 = 'Nick'\n",
    "var1 = var2\n",
    "var1 "
   ]
  },
  {
   "cell_type": "code",
   "execution_count": 21,
   "metadata": {},
   "outputs": [
    {
     "data": {
      "text/plain": [
       "20"
      ]
     },
     "execution_count": 21,
     "metadata": {},
     "output_type": "execute_result"
    }
   ],
   "source": [
    "#Using keywords as variable name\n",
    "break1 = 20\n",
    "break1"
   ]
  },
  {
   "cell_type": "code",
   "execution_count": 25,
   "metadata": {},
   "outputs": [
    {
     "name": "stdout",
     "output_type": "stream",
     "text": [
      "['False', 'None', 'True', 'and', 'as', 'assert', 'async', 'await', 'break', 'class', 'continue', 'def', 'del', 'elif', 'else', 'except', 'finally', 'for', 'from', 'global', 'if', 'import', 'in', 'is', 'lambda', 'nonlocal', 'not', 'or', 'pass', 'raise', 'return', 'try', 'while', 'with', 'yield']\n"
     ]
    }
   ],
   "source": [
    "#keywords in Python\n",
    "import keyword\n",
    "print(keyword.kwlist)"
   ]
  },
  {
   "cell_type": "markdown",
   "metadata": {
    "id": "ilx9djl-WwOE"
   },
   "source": [
    "\n",
    "## **Python Data Types**\n",
    "\n",
    "A data type is an attribute of data which tells the compiler or interpreter how the programmer intends to use the data. Python supports the following Python data types:\n",
    "\n",
    "\n",
    "*  int (integers)\n",
    "*  float (floating point real values)\n",
    "*  long (long integers, discontinued in Python 3)\n",
    "*  complex (complex numbers)\n",
    "*  Boolean (True, False)\n",
    "*  Strings\n",
    "\n",
    "\n",
    "\n",
    "\n",
    "\n",
    "\n",
    "\n",
    "\n",
    "      \n",
    "\n"
   ]
  },
  {
   "cell_type": "markdown",
   "metadata": {
    "id": "IZJAzajfWwOF"
   },
   "source": [
    "<table>\n",
    "  <tr>\n",
    "  <th>int</th>\n",
    "  <th>float</th>\n",
    "  <th>long</th>\n",
    "  <th>complex</th>\n",
    "  </tr>\n",
    "  <tr>\n",
    "  <td>100</td>\n",
    "  <td>52.1</td>\n",
    "  <td>012345L</td>\n",
    "  <td>2+5j</td>  \n",
    "  </tr>\n",
    "  <tr>\n",
    "  <td>70</td>\n",
    "  <td>0.01</td>\n",
    "  <td>-987652L</td>\n",
    "  <td>1.18j</td>\n",
    "  </tr>\n",
    "  <tr>\n",
    "  <td>-150</td>\n",
    "  <td>1.626e16</td>\n",
    "  <td>10000000000000000</td>\n",
    "  <td>-10j</td>\n",
    "  </tr>\n",
    "</table>"
   ]
  },
  {
   "cell_type": "markdown",
   "metadata": {
    "id": "U6hFAQM8WwOF"
   },
   "source": [
    "## int\n",
    "An integer, or int, is a whole number. It has no decimal point and contains the number 0, positive and negative counting numbers. If we were counting the number of people on the bus or the number of jellybeans in a jar, we would use an integer. We can use the type() function to find which class it belongs to."
   ]
  },
  {
   "cell_type": "code",
   "execution_count": 27,
   "metadata": {
    "id": "gD08tb_oWwOG"
   },
   "outputs": [
    {
     "data": {
      "text/plain": [
       "int"
      ]
     },
     "execution_count": 27,
     "metadata": {},
     "output_type": "execute_result"
    }
   ],
   "source": [
    "num = 50\n",
    "type(num)"
   ]
  },
  {
   "cell_type": "code",
   "execution_count": 28,
   "metadata": {},
   "outputs": [
    {
     "data": {
      "text/plain": [
       "int"
      ]
     },
     "execution_count": 28,
     "metadata": {},
     "output_type": "execute_result"
    }
   ],
   "source": [
    "num = -50\n",
    "type(num)"
   ]
  },
  {
   "cell_type": "markdown",
   "metadata": {
    "id": "kcwZsEBnWwOL"
   },
   "source": [
    "## float\n",
    "A floating-point number, or a float, is a decimal number. It can be used to represent fractions or precise measurements. If you were measuring the length and width of the window, calculating the average test score, or storing a baseball player’s batting average, we would use a float instead of an int."
   ]
  },
  {
   "cell_type": "code",
   "execution_count": 30,
   "metadata": {
    "id": "gzRxX7LwWwOL"
   },
   "outputs": [
    {
     "data": {
      "text/plain": [
       "float"
      ]
     },
     "execution_count": 30,
     "metadata": {},
     "output_type": "execute_result"
    }
   ],
   "source": [
    "flt = 1.226\n",
    "type(flt)"
   ]
  },
  {
   "cell_type": "code",
   "execution_count": 33,
   "metadata": {},
   "outputs": [
    {
     "data": {
      "text/plain": [
       "float"
      ]
     },
     "execution_count": 33,
     "metadata": {},
     "output_type": "execute_result"
    }
   ],
   "source": [
    "flt2 = 1.62e6\n",
    "type(flt2)\n"
   ]
  },
  {
   "cell_type": "markdown",
   "metadata": {
    "id": "FSSMkUsYWwOQ"
   },
   "source": [
    "## long"
   ]
  },
  {
   "cell_type": "markdown",
   "metadata": {
    "id": "KUu1KWCuWwOT"
   },
   "source": [
    "Long does not exist in Python 3 onwards"
   ]
  },
  {
   "cell_type": "code",
   "execution_count": 34,
   "metadata": {
    "id": "D4mAkQ29WwOR"
   },
   "outputs": [
    {
     "data": {
      "text/plain": [
       "int"
      ]
     },
     "execution_count": 34,
     "metadata": {},
     "output_type": "execute_result"
    }
   ],
   "source": [
    "x = 9999999999999999\n",
    "type(x)"
   ]
  },
  {
   "cell_type": "markdown",
   "metadata": {
    "id": "apmbFzZHWwOT"
   },
   "source": [
    "## complex"
   ]
  },
  {
   "cell_type": "markdown",
   "metadata": {
    "id": "MvcGz2B9_6H-"
   },
   "source": [
    "Complex numbers are not used much in Python"
   ]
  },
  {
   "cell_type": "code",
   "execution_count": 35,
   "metadata": {
    "id": "gp5-Bm5MWwOU"
   },
   "outputs": [
    {
     "data": {
      "text/plain": [
       "complex"
      ]
     },
     "execution_count": 35,
     "metadata": {},
     "output_type": "execute_result"
    }
   ],
   "source": [
    "y = 1+2j\n",
    "type(y)"
   ]
  },
  {
   "cell_type": "markdown",
   "metadata": {},
   "source": [
    "    "
   ]
  },
  {
   "cell_type": "markdown",
   "metadata": {},
   "source": [
    "## Booleans\n",
    "\n",
    "A Boolean data type stores a value that can only be either true or false. In Python, it's capitalized True or False."
   ]
  },
  {
   "cell_type": "code",
   "execution_count": null,
   "metadata": {},
   "outputs": [],
   "source": [
    "month_dec = False"
   ]
  },
  {
   "cell_type": "code",
   "execution_count": 2,
   "metadata": {},
   "outputs": [],
   "source": [
    "# try running this\n",
    "5 == 5"
   ]
  },
  {
   "cell_type": "markdown",
   "metadata": {
    "id": "T41pYrW8WwOX"
   },
   "source": [
    "## Strings"
   ]
  },
  {
   "cell_type": "markdown",
   "metadata": {
    "id": "RSA1gdoeWwOY"
   },
   "source": [
    "A string is a sequence of characters. You can delimit a string using single quotes `'string'` or double-quotes `\"string\"`."
   ]
  },
  {
   "cell_type": "code",
   "execution_count": 47,
   "metadata": {
    "id": "XrVRb1yqWwOY"
   },
   "outputs": [
    {
     "data": {
      "text/plain": [
       "str"
      ]
     },
     "execution_count": 47,
     "metadata": {},
     "output_type": "execute_result"
    }
   ],
   "source": [
    "call = 'Python is PL'\n",
    "type(call)"
   ]
  },
  {
   "cell_type": "code",
   "execution_count": 39,
   "metadata": {},
   "outputs": [
    {
     "data": {
      "text/plain": [
       "\"it's his dog\""
      ]
     },
     "execution_count": 39,
     "metadata": {},
     "output_type": "execute_result"
    }
   ],
   "source": [
    "string2 = \"it's his dog\"\n",
    "string2"
   ]
  },
  {
   "cell_type": "markdown",
   "metadata": {
    "id": "xX5bTc8aWwOa"
   },
   "source": [
    "**String operations**\n",
    "\n",
    "The plus (+) sign is the string concatenation operator and the asterisk (*) is the repetition operator.\n",
    "\n",
    "You **cannot** use the minus(-) operator and the division(/) operator on strings."
   ]
  },
  {
   "cell_type": "code",
   "execution_count": 1,
   "metadata": {
    "id": "I7T09aV_WwOb"
   },
   "outputs": [
    {
     "data": {
      "text/plain": [
       "'Helloworld'"
      ]
     },
     "execution_count": 1,
     "metadata": {},
     "output_type": "execute_result"
    }
   ],
   "source": [
    "#Print a concatenated string      \n",
    "str1 = 'Hello'\n",
    "str2 = 'world'\n",
    "str3 = str1+str2\n",
    "str3"
   ]
  },
  {
   "cell_type": "code",
   "execution_count": 49,
   "metadata": {
    "id": "YgJ_RdB_WwOd"
   },
   "outputs": [
    {
     "data": {
      "text/plain": [
       "'HelloworldHelloworldHelloworldHelloworld'"
      ]
     },
     "execution_count": 49,
     "metadata": {},
     "output_type": "execute_result"
    }
   ],
   "source": [
    "#Print a string three times  \n",
    "str3 * 4"
   ]
  },
  {
   "cell_type": "markdown",
   "metadata": {
    "id": "D3D5pz2TWwOf"
   },
   "source": [
    "**Indexing in Python**\n",
    "\n",
    "Subsets of strings can be taken using the slice operator ([ ]). You can display a character from a string using its index in the string. Remember, indexing in python starts with `0`"
   ]
  },
  {
   "cell_type": "code",
   "execution_count": 2,
   "metadata": {
    "id": "FcOZ-f9SWwOh"
   },
   "outputs": [
    {
     "data": {
      "text/plain": [
       "'w'"
      ]
     },
     "execution_count": 2,
     "metadata": {},
     "output_type": "execute_result"
    }
   ],
   "source": [
    "#Print sixth character of the string\n",
    "str3[5]"
   ]
  },
  {
   "cell_type": "markdown",
   "metadata": {
    "id": "rmacECWIWwOj"
   },
   "source": [
    "You can also display a range of characters in a string using the slicing operator with indexes starting at 0 in the beginning of the string and working their way from -1 at the end."
   ]
  },
  {
   "cell_type": "code",
   "execution_count": 55,
   "metadata": {
    "id": "JDHvadR_WwOj"
   },
   "outputs": [
    {
     "data": {
      "text/plain": [
       "'Helloworld'"
      ]
     },
     "execution_count": 55,
     "metadata": {},
     "output_type": "execute_result"
    }
   ],
   "source": [
    "# Print characters starting from 10th to 15th character\n",
    "str3"
   ]
  },
  {
   "cell_type": "code",
   "execution_count": 58,
   "metadata": {},
   "outputs": [
    {
     "data": {
      "text/plain": [
       "'llo'"
      ]
     },
     "execution_count": 58,
     "metadata": {},
     "output_type": "execute_result"
    }
   ],
   "source": [
    "#to get 'llo'\n",
    "str3[2:5]"
   ]
  },
  {
   "cell_type": "markdown",
   "metadata": {
    "id": "lqGsgw_6WwOl"
   },
   "source": [
    "Strings are immutable."
   ]
  },
  {
   "cell_type": "code",
   "execution_count": 59,
   "metadata": {
    "id": "SGqCKsZBWwOl"
   },
   "outputs": [
    {
     "ename": "TypeError",
     "evalue": "'str' object does not support item assignment",
     "output_type": "error",
     "traceback": [
      "\u001b[0;31m---------------------------------------------------------------------------\u001b[0m",
      "\u001b[0;31mTypeError\u001b[0m                                 Traceback (most recent call last)",
      "\u001b[0;32m<ipython-input-59-7dc8128bd875>\u001b[0m in \u001b[0;36m<module>\u001b[0;34m\u001b[0m\n\u001b[0;32m----> 1\u001b[0;31m \u001b[0mstr3\u001b[0m\u001b[0;34m[\u001b[0m\u001b[0;36m0\u001b[0m\u001b[0;34m]\u001b[0m \u001b[0;34m=\u001b[0m \u001b[0;34m'h'\u001b[0m\u001b[0;34m\u001b[0m\u001b[0;34m\u001b[0m\u001b[0m\n\u001b[0m",
      "\u001b[0;31mTypeError\u001b[0m: 'str' object does not support item assignment"
     ]
    }
   ],
   "source": [
    "str3[0] = 'h'"
   ]
  },
  {
   "cell_type": "markdown",
   "metadata": {
    "id": "pfuknDsgF9Rn"
   },
   "source": [
    "<a id=\"bool\"> </a>\n",
    "### Python Boolean\n",
    "In Python programming language, the Boolean datatype is a primitive datatype having one of two values: **True** or **False**."
   ]
  },
  {
   "cell_type": "code",
   "execution_count": 61,
   "metadata": {
    "id": "MZWZ-vhsF9Ro"
   },
   "outputs": [
    {
     "data": {
      "text/plain": [
       "bool"
      ]
     },
     "execution_count": 61,
     "metadata": {},
     "output_type": "execute_result"
    }
   ],
   "source": [
    "Boo = True\n",
    "type(Boo)"
   ]
  },
  {
   "cell_type": "code",
   "execution_count": 63,
   "metadata": {},
   "outputs": [
    {
     "data": {
      "text/plain": [
       "True"
      ]
     },
     "execution_count": 63,
     "metadata": {},
     "output_type": "execute_result"
    }
   ],
   "source": [
    "10 > 9"
   ]
  },
  {
   "cell_type": "code",
   "execution_count": 64,
   "metadata": {},
   "outputs": [
    {
     "data": {
      "text/plain": [
       "False"
      ]
     },
     "execution_count": 64,
     "metadata": {},
     "output_type": "execute_result"
    }
   ],
   "source": [
    "10 < 9"
   ]
  },
  {
   "cell_type": "markdown",
   "metadata": {
    "id": "EVRWwplyWwPK"
   },
   "source": [
    "<a id=\"typecon\"> </a>\n",
    "## **Type Conversion**\n",
    "If you want to convert a value into another type, Python supports different type conversion functions like int(), float(), str() etc."
   ]
  },
  {
   "cell_type": "markdown",
   "metadata": {
    "id": "boCcUiw1WwPK"
   },
   "source": [
    "#### float()\n",
    "It converts the passed value into a float."
   ]
  },
  {
   "cell_type": "code",
   "execution_count": 71,
   "metadata": {
    "id": "rs0NOMBhWwPK"
   },
   "outputs": [
    {
     "data": {
      "text/plain": [
       "1.0"
      ]
     },
     "execution_count": 71,
     "metadata": {},
     "output_type": "execute_result"
    }
   ],
   "source": [
    "x = 1\n",
    "float(x)"
   ]
  },
  {
   "cell_type": "markdown",
   "metadata": {
    "id": "hz5JQDNDWwPM"
   },
   "source": [
    "You can turn a Boolean into an float."
   ]
  },
  {
   "cell_type": "code",
   "execution_count": 68,
   "metadata": {
    "id": "f7ha7y1HWwPM"
   },
   "outputs": [
    {
     "data": {
      "text/plain": [
       "1.0"
      ]
     },
     "execution_count": 68,
     "metadata": {},
     "output_type": "execute_result"
    }
   ],
   "source": [
    "float(True)\n"
   ]
  },
  {
   "cell_type": "code",
   "execution_count": 69,
   "metadata": {},
   "outputs": [
    {
     "data": {
      "text/plain": [
       "0.0"
      ]
     },
     "execution_count": 69,
     "metadata": {},
     "output_type": "execute_result"
    }
   ],
   "source": [
    "float(False)"
   ]
  },
  {
   "cell_type": "markdown",
   "metadata": {
    "id": "0-kWsn3OWwPP"
   },
   "source": [
    "You cannot turn a string into an float. It throws an error. However, if the string has only numbers, then you can."
   ]
  },
  {
   "cell_type": "code",
   "execution_count": 73,
   "metadata": {
    "id": "VXcZNILHWwPP"
   },
   "outputs": [
    {
     "ename": "ValueError",
     "evalue": "could not convert string to float: 'string'",
     "output_type": "error",
     "traceback": [
      "\u001b[0;31m---------------------------------------------------------------------------\u001b[0m",
      "\u001b[0;31mValueError\u001b[0m                                Traceback (most recent call last)",
      "\u001b[0;32m<ipython-input-73-bdfa95e325d9>\u001b[0m in \u001b[0;36m<module>\u001b[0;34m\u001b[0m\n\u001b[1;32m      1\u001b[0m \u001b[0mx\u001b[0m \u001b[0;34m=\u001b[0m \u001b[0;34m'string'\u001b[0m\u001b[0;34m\u001b[0m\u001b[0;34m\u001b[0m\u001b[0m\n\u001b[0;32m----> 2\u001b[0;31m \u001b[0mfloat\u001b[0m\u001b[0;34m(\u001b[0m\u001b[0mx\u001b[0m\u001b[0;34m)\u001b[0m\u001b[0;34m\u001b[0m\u001b[0;34m\u001b[0m\u001b[0m\n\u001b[0m",
      "\u001b[0;31mValueError\u001b[0m: could not convert string to float: 'string'"
     ]
    }
   ],
   "source": [
    "x = 'string'\n",
    "float(x)"
   ]
  },
  {
   "cell_type": "markdown",
   "metadata": {
    "id": "ECm0OUL8WwPS"
   },
   "source": [
    "#### int"
   ]
  },
  {
   "cell_type": "markdown",
   "metadata": {
    "id": "PkU5JhzOWwPT"
   },
   "source": [
    "Conversion from float to int will round-off the value (make it closer to zero)."
   ]
  },
  {
   "cell_type": "code",
   "execution_count": 76,
   "metadata": {
    "id": "D4zY6JVOWwPT"
   },
   "outputs": [
    {
     "data": {
      "text/plain": [
       "11"
      ]
     },
     "execution_count": 76,
     "metadata": {},
     "output_type": "execute_result"
    }
   ],
   "source": [
    "x = 11.7\n",
    "int(x)"
   ]
  },
  {
   "cell_type": "markdown",
   "metadata": {
    "id": "fhMAZgkhWwPV"
   },
   "source": [
    " You can also turn a Boolean into an int."
   ]
  },
  {
   "cell_type": "code",
   "execution_count": 81,
   "metadata": {
    "id": "kMzj0ZoKWwPV"
   },
   "outputs": [
    {
     "data": {
      "text/plain": [
       "1"
      ]
     },
     "execution_count": 81,
     "metadata": {},
     "output_type": "execute_result"
    }
   ],
   "source": [
    "int(True)"
   ]
  },
  {
   "cell_type": "markdown",
   "metadata": {
    "id": "fFIzQUxDWwPb"
   },
   "source": [
    "You cannot turn a string into an int. It throws an error. However, if the string has only numbers, then you can."
   ]
  },
  {
   "cell_type": "code",
   "execution_count": 10,
   "metadata": {
    "id": "a1_NU2oRWwPb"
   },
   "outputs": [],
   "source": []
  },
  {
   "cell_type": "markdown",
   "metadata": {
    "id": "AxKlwSvEWwPe"
   },
   "source": [
    "#### str()\n",
    "<em>str()</em> converts the value into a string."
   ]
  },
  {
   "cell_type": "code",
   "execution_count": 83,
   "metadata": {
    "id": "msQLpozMWwPi"
   },
   "outputs": [
    {
     "data": {
      "text/plain": [
       "'1'"
      ]
     },
     "execution_count": 83,
     "metadata": {},
     "output_type": "execute_result"
    }
   ],
   "source": [
    "x = 1\n",
    "type(x)\n",
    "str(x)"
   ]
  },
  {
   "cell_type": "markdown",
   "metadata": {
    "id": "NeztNGtGWwP5"
   },
   "source": [
    "<a id=\"print\"> </a>\n",
    "## **Python print()**"
   ]
  },
  {
   "cell_type": "code",
   "execution_count": 84,
   "metadata": {
    "id": "mNLpxl-4WwP9"
   },
   "outputs": [
    {
     "name": "stdout",
     "output_type": "stream",
     "text": [
      "Hello\n"
     ]
    }
   ],
   "source": [
    "#initialize a variable and pass two objects\n",
    "x = 'Hello'\n",
    "print(x)"
   ]
  },
  {
   "cell_type": "markdown",
   "metadata": {
    "id": "MnsdtyNjWwQB"
   },
   "source": [
    "## **User Input**\n",
    "\n",
    "\n"
   ]
  },
  {
   "cell_type": "markdown",
   "metadata": {
    "id": "N4He5BZIWwQE"
   },
   "source": [
    "The Python input() function is used to read data from a standard input such as a keyboard and treats the received data by default as `string`. Basically, when we enter digit value, input() in python 3 stores it as string value. So to convert string value to integer value, we will use int() function just as shown below."
   ]
  },
  {
   "cell_type": "code",
   "execution_count": 87,
   "metadata": {
    "id": "NSFYP6-1k8S8"
   },
   "outputs": [
    {
     "name": "stdout",
     "output_type": "stream",
     "text": [
      "What is your age?10\n",
      "20\n"
     ]
    }
   ],
   "source": [
    "age = int(input('What is your age?'))\n",
    "new=age+10\n",
    "print(new)"
   ]
  },
  {
   "cell_type": "markdown",
   "metadata": {
    "id": "Wev9Kx6-WwQH"
   },
   "source": [
    "When `input()` function executes program flow will be stopped until the user has given an input. The message displayed on the output screen to ask a user to enter input value is optional i.e. the prompt, will be printed on the screen is optional.\n",
    "Whatever you enter as input, input function convert it into a string. if you enter an integer value still `input()` function convert it into a string."
   ]
  },
  {
   "cell_type": "markdown",
   "metadata": {
    "id": "TgPxKm5oWwQH"
   },
   "source": [
    "## **Python Operators**\n",
    "\n"
   ]
  },
  {
   "cell_type": "markdown",
   "metadata": {
    "id": "-Ta6RTyDWwQI"
   },
   "source": [
    "<a id=\"arith\"> </a>\n",
    "### 1. Arithmetic Operators\n",
    "Arithmetic operators are used to perform mathematical operations like addition, subtraction, multiplication etc.\n",
    "\n",
    "Python has the following arithmetic operators:\n",
    "\n",
    "`+`  Addition<br>\n",
    "`-`  Subtraction<br>\n",
    "`*`  Multiplication<br>\n",
    "`**` Exponential<br>\n",
    "`/`  Division (returns the quotient)<br>\n",
    "`%`  Modulo (returns the remainder)<br>"
   ]
  },
  {
   "cell_type": "code",
   "execution_count": 93,
   "metadata": {
    "id": "Q-pEFy-BWwQI"
   },
   "outputs": [
    {
     "name": "stdout",
     "output_type": "stream",
     "text": [
      "6\n",
      "8\n",
      "0\n",
      "2.0\n",
      "2\n",
      "16\n"
     ]
    }
   ],
   "source": [
    "a = 2\n",
    "b = 4\n",
    "# '+' Operator prints addition of a and b\n",
    "print(a+b)\n",
    "\n",
    "# '-' Operator prints subtraction of  a and b\n",
    "print(b-a)\n",
    "\n",
    "# '*' Operator prints multiplication of  a and b\n",
    "print(b*a)\n",
    "\n",
    "# '**' Operator prints exponential of a\n",
    "print(a**2)\n",
    "\n",
    "# '%' Operator prints remainder of division between a and b\n",
    "print(b%2)\n",
    "\n",
    "# '/' Operator prints division of  a and b (quotient)\n",
    "print(b/2)\n",
    "\n",
    "# '//' Operator prints the interger value of the division between a and b \n",
    "print(b//2)\n",
    "\n",
    "# '**' Operator prints the result of a to the power b\n",
    "print(b**2)\n"
   ]
  },
  {
   "cell_type": "markdown",
   "metadata": {},
   "source": [
    "    "
   ]
  },
  {
   "cell_type": "markdown",
   "metadata": {
    "id": "5E-kgOQyWwQJ"
   },
   "source": [
    "<a id=\"comp\"> </a>\n",
    "### 2. Comparison Operators\n",
    "\n",
    "`==` equal to\n",
    "\n",
    "`!=` not equal to\n",
    "\n",
    "`>` greater than\n",
    "\n",
    "`<` less than\n",
    "\n",
    "`>=` greater than or equal to\n",
    "\n",
    "`<=` less than or equal to\n",
    "\n",
    "Comparison Operator carries out the comparison between operands. They tell us whether an operand is greater than the other, lesser, equal, or a combination of those. It either returns <em>True</em> or <em>False</em> according to the condition."
   ]
  },
  {
   "cell_type": "code",
   "execution_count": 3,
   "metadata": {
    "id": "ei8_yWjXWwQJ"
   },
   "outputs": [
    {
     "name": "stdout",
     "output_type": "stream",
     "text": [
      "True\n",
      "False\n",
      "True\n"
     ]
    }
   ],
   "source": [
    "a = 2\n",
    "b = 4\n",
    "\n",
    "# '>' Operator\n",
    "print(b > a)\n",
    "\n",
    "# '<' Operator\n",
    "\n",
    "# '==' Operator\n",
    "print(b==a)\n",
    "\n",
    "# '!=' Operator\n",
    "print(b!=a)\n",
    "# '>=' Operator\n",
    "\n",
    "# '<= y' Operator"
   ]
  },
  {
   "cell_type": "markdown",
   "metadata": {
    "id": "DHAWZfnRWwQL"
   },
   "source": [
    "<a id=\"assign\"> </a>\n",
    "### 3. Assignment Operators\n",
    "An assignment operator assigns a value to a variable. It may manipulate the value by a factor before assigning it."
   ]
  },
  {
   "cell_type": "markdown",
   "metadata": {
    "id": "KhOFmuWmWwQM"
   },
   "source": [
    "Note:\n",
    "\n",
    "i+=1 is the same as i=i+1, whereas i=+1 just means i=(+1)"
   ]
  },
  {
   "cell_type": "code",
   "execution_count": 10,
   "metadata": {
    "id": "7WeHVcSIWwQL"
   },
   "outputs": [
    {
     "name": "stdout",
     "output_type": "stream",
     "text": [
      "6\n",
      "0\n",
      "9\n",
      "1.0\n"
     ]
    }
   ],
   "source": [
    "# '=' Operator assigns the value to the variable on the left\n",
    "\n",
    "a = 5 #assings the value of 5 to the variable a\n",
    "\n",
    "\n",
    "# '+=' Operator\n",
    "i = 3\n",
    "i += 3\n",
    "print(i)\n",
    "\n",
    "# '-=' Operator\n",
    "i = 3\n",
    "i -= 3\n",
    "print(i)\n",
    "\n",
    "# '*=' Operator\n",
    "i = 3\n",
    "i *= 3\n",
    "print(i)\n",
    "\n",
    "# '/=' aOperator\n",
    "i = 3\n",
    "i /= 3\n",
    "print(i)"
   ]
  },
  {
   "cell_type": "markdown",
   "metadata": {
    "id": "OeuiSmbLWwQM"
   },
   "source": [
    "<a id=\"logic\"> </a>\n",
    "### 4. Logical Operators\n",
    "Logical operators are like conjunctions that you can use to combine more than one condition. We have three Python logical operator – **<em>and</em>**, **<em>or</em>**, and **<em>not</em>** that come under python operators."
   ]
  },
  {
   "cell_type": "markdown",
   "metadata": {
    "id": "_8T3z6drWwQM"
   },
   "source": [
    "#### 'and' Operator\n",
    "If the conditions on both the sides of the operator are true, then the expression as a whole is true."
   ]
  },
  {
   "cell_type": "code",
   "execution_count": 7,
   "metadata": {
    "id": "vvanF5POWwQM"
   },
   "outputs": [],
   "source": [
    "# guess the Boolean output\n",
    "3 == 3 and 4 == 4"
   ]
  },
  {
   "cell_type": "code",
   "execution_count": null,
   "metadata": {},
   "outputs": [],
   "source": [
    "# guess the Boolean output\n",
    "3 == 3 and 4 == 5"
   ]
  },
  {
   "cell_type": "markdown",
   "metadata": {
    "id": "moUtA-A7WwQN"
   },
   "source": [
    "Here if both the conditions are satisfied, we have `True` as the output, else `False`"
   ]
  },
  {
   "cell_type": "markdown",
   "metadata": {
    "id": "ZJaxiiqkWwQO"
   },
   "source": [
    "#### 'or' Operator\n",
    "The expression is false only if both the statements around the operator are false. Otherwise, it is true."
   ]
  },
  {
   "cell_type": "code",
   "execution_count": 9,
   "metadata": {
    "id": "96UjEwpGWwQO"
   },
   "outputs": [],
   "source": [
    "# guess the Boolean output\n",
    "3 == 3 or 4 == 4"
   ]
  },
  {
   "cell_type": "code",
   "execution_count": null,
   "metadata": {},
   "outputs": [],
   "source": [
    "# guess the Boolean output\n",
    "3 == 3 and 4 == 5"
   ]
  },
  {
   "cell_type": "markdown",
   "metadata": {},
   "source": [
    "    "
   ]
  },
  {
   "cell_type": "markdown",
   "metadata": {},
   "source": [
    "    "
   ]
  },
  {
   "cell_type": "markdown",
   "metadata": {},
   "source": [
    "## Recap\n",
    "\n",
    "Here's a quick recap of everything we learned in this class:\n",
    "\n",
    "**Data types:** int, float, str, bool<br>\n",
    "\n",
    "**Arithmetic operators:** `+, -, *, /`<br>\n",
    "\n",
    "The `%`  modulo finds the remainder <br>\n",
    "\n",
    "The `**`  exponentiation finds the exponent<br>\n",
    "\n",
    "The `input()`  function is used to get user input<br>\n",
    "\n",
    "The `int()`  function converts a value into an integer number."
   ]
  },
  {
   "cell_type": "markdown",
   "metadata": {},
   "source": [
    "    "
   ]
  },
  {
   "cell_type": "markdown",
   "metadata": {},
   "source": [
    "## <span style=\"color:darkred\">Quick Exercise</span>\n",
    "\n",
    "Write a python code that converts a temperature from Fahrenheit (°F) to Celsius (°C).\n",
    "\n",
    "Steps: \n",
    "1. Take the Fahrenheit input from the user\n",
    "2. Do the Maths\n",
    "2. Print out the converted temperature in celsius\n",
    "\n",
    "Use the following formula and write it out in Python:\n",
    "\n",
    "`Celsius = (Fahrenheit − 32) / 1.8`\n"
   ]
  },
  {
   "cell_type": "code",
   "execution_count": null,
   "metadata": {},
   "outputs": [],
   "source": []
  }
 ],
 "metadata": {
  "colab": {
   "name": "Python Intro 1.ipynb",
   "provenance": []
  },
  "kernelspec": {
   "display_name": "Python 3 (ipykernel)",
   "language": "python",
   "name": "python3"
  },
  "language_info": {
   "codemirror_mode": {
    "name": "ipython",
    "version": 3
   },
   "file_extension": ".py",
   "mimetype": "text/x-python",
   "name": "python",
   "nbconvert_exporter": "python",
   "pygments_lexer": "ipython3",
   "version": "3.9.13"
  }
 },
 "nbformat": 4,
 "nbformat_minor": 1
}
