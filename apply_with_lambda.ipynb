{
  "cells": [
    {
      "cell_type": "markdown",
      "id": "ea694165",
      "metadata": {
        "id": "ea694165"
      },
      "source": [
        "# df.apply() with lambda"
      ]
    },
    {
      "cell_type": "markdown",
      "id": "9a561af0",
      "metadata": {
        "id": "9a561af0"
      },
      "source": [
        "## The purpose of this notebook is to do a quick overview of how to use a lambda function with df.apply()."
      ]
    },
    {
      "cell_type": "code",
      "execution_count": null,
      "id": "4c736fc0",
      "metadata": {
        "id": "4c736fc0"
      },
      "outputs": [],
      "source": [
        "# some modules we will need\n",
        "import pandas as pd\n",
        "import numpy as np"
      ]
    },
    {
      "cell_type": "markdown",
      "id": "96906027",
      "metadata": {
        "id": "96906027"
      },
      "source": [
        "### As we just saw, using the apply() function:\n",
        "\n",
        "`apply()` is used to apply a function to a data frame or to a series (column of the data frame).\n",
        "\n",
        "The basic way to use the function is:\n",
        "\n",
        "out = `dataframe`.apply(`func`)\n",
        "\n",
        "https://pandas.pydata.org/pandas-docs/stable/reference/api/pandas.DataFrame.apply.html"
      ]
    },
    {
      "cell_type": "markdown",
      "id": "44335399",
      "metadata": {
        "id": "44335399"
      },
      "source": [
        "#### Notice that apply() takes a FUNCTION as its argument.\n",
        "\n",
        "Up to this point, we have looked at built in functions (mean, sum, for example) with apply().\n",
        "\n",
        "lambda functions are functions, so we can also use them with apply()."
      ]
    },
    {
      "cell_type": "markdown",
      "id": "8fbf2afa",
      "metadata": {
        "id": "8fbf2afa"
      },
      "source": [
        "Let's do a quick review of lambda functions.\n",
        "\n",
        "See the visual.\n",
        "\n",
        "![lambda_visual.png](https://github.com/gt-cse-6040/bootcamp/blob/main/Module%201/Session%202/lambda_visual.png?raw=1)"
      ]
    },
    {
      "cell_type": "markdown",
      "id": "7b7bceb8",
      "metadata": {
        "id": "7b7bceb8"
      },
      "source": [
        "As the picture shows:\n",
        "\n",
        "1. The overall value/function is what the lambda function returns.\n",
        "\n",
        "2. The arguments in the lambda function are what is passed in, to the left of the colon (:).\n",
        "\n",
        "3. The ret_val is what the lambda function returns. It is the operation(s) that are being performed.\n",
        "\n",
        "Documentation link:  https://docs.python.org/3/reference/expressions.html#lambda\n",
        "\n",
        "Good link with examples:  https://www.geeksforgeeks.org/python-lambda-anonymous-functions-filter-map-reduce/\n",
        "\n",
        "**For final review, let's look at a few simple examples of lambda.**"
      ]
    },
    {
      "cell_type": "code",
      "execution_count": null,
      "id": "6a1cc508",
      "metadata": {
        "id": "6a1cc508"
      },
      "outputs": [],
      "source": [
        "# Add 10 to argument a, and return the result:\n",
        "x = lambda a : a + 10\n",
        "x(5)"
      ]
    },
    {
      "cell_type": "code",
      "execution_count": null,
      "id": "9e489deb",
      "metadata": {
        "id": "9e489deb"
      },
      "outputs": [],
      "source": [
        "# pass in multiple arguments\n",
        "x = lambda a, b, c : a + b + c\n",
        "x(5, 8, 7)"
      ]
    },
    {
      "cell_type": "markdown",
      "id": "6d9ba237",
      "metadata": {
        "id": "6d9ba237"
      },
      "source": [
        "Remember also, that we can use a lambda function as an anonymous function inside another function."
      ]
    },
    {
      "cell_type": "code",
      "execution_count": null,
      "id": "18be69cf",
      "metadata": {
        "id": "18be69cf"
      },
      "outputs": [],
      "source": [
        "def lambdafunc(n):\n",
        "    return lambda a : a * n\n",
        "\n",
        "double_value = lambdafunc(2)\n",
        "\n",
        "# these two are equivalent\n",
        "double_value(25)\n",
        "# lambdafunc(2)(25)"
      ]
    },
    {
      "cell_type": "markdown",
      "id": "95e8b937",
      "metadata": {
        "id": "95e8b937"
      },
      "source": [
        "### Now let's use apply() and lambda together."
      ]
    },
    {
      "cell_type": "markdown",
      "id": "8a7e7755",
      "metadata": {
        "id": "8a7e7755"
      },
      "source": [
        "Remember that the default way of apply( ) in dealing with a dataframe is to take a whole column each time and operate on that column with the function passed. So the parameter `axis=0` is the default and DOES NOT need to be specified, if operating on columns.\n",
        "\n",
        "We can change this default setting by specifying the `axis` parameter, so that `axis=0` (the default) applies by column and `axis=1` applies by row."
      ]
    },
    {
      "cell_type": "code",
      "execution_count": null,
      "id": "f3973346",
      "metadata": {
        "id": "f3973346"
      },
      "outputs": [],
      "source": [
        "# create a dataframe to operate on\n",
        "# creating and initializing a nested list\n",
        "values_list = [[15, 2.5, 100], [20, 3.5, 90], [25, 4.5, 80],\n",
        "               [30, 5.5, 70], [35, 6.5, 60], [40, 7.5, 50],\n",
        "               [45, 8.5, 40]]\n",
        "\n",
        "# creating a pandas dataframe\n",
        "df = pd.DataFrame(values_list, columns=['Col_1', 'Col_2', 'Col_3'],\n",
        "                  index=['row_a', 'row_b', 'row_c', 'row_d', 'row_e', 'row_f', 'row_g'])\n",
        "\n",
        "df"
      ]
    },
    {
      "cell_type": "code",
      "execution_count": null,
      "id": "0a4dcfc4",
      "metadata": {
        "id": "0a4dcfc4"
      },
      "outputs": [],
      "source": [
        "# Apply function numpy.square() to square the values of every value in the df\n",
        "df_sq = df.apply(lambda x: np.square(x))\n",
        "df_sq"
      ]
    },
    {
      "cell_type": "code",
      "execution_count": null,
      "id": "6c46a14e",
      "metadata": {
        "id": "6c46a14e"
      },
      "outputs": [],
      "source": [
        "# Apply function numpy.square() to square the values of an individual row\n",
        "# We are using axis=1 to apply to rows\n",
        "df_sq2 = df.apply(lambda x: np.square(x) if x.name == 'row_c' else x, axis=1)\n",
        "\n",
        "df_sq2"
      ]
    },
    {
      "cell_type": "code",
      "execution_count": null,
      "id": "04093825",
      "metadata": {
        "id": "04093825"
      },
      "outputs": [],
      "source": [
        "# Apply function numpy.square() to square the values of a selection of rows\n",
        "# We are using axis=1 to apply to rows\n",
        "df_sq3 = df.apply(lambda x: np.square(x) if x.name in ['row_a', 'row_d', 'row_f'] else x, axis=1)\n",
        "\n",
        "df_sq3"
      ]
    },
    {
      "cell_type": "code",
      "execution_count": null,
      "id": "c79bbd01",
      "metadata": {
        "id": "c79bbd01"
      },
      "outputs": [],
      "source": [
        "# Applying lambda function on a column\n",
        "# Note that axis=0 is the default, to apply to columns.\n",
        "# So the two statements below function the same\n",
        "df_sq4 = df.apply(lambda x: np.square(x) if x.name in ['Col_2'] else x)\n",
        "# df_sq4 = df.apply(lambda x: np.square(x) if x.name in ['Col_2'] else x, axis=0)\n",
        "\n",
        "df_sq4"
      ]
    },
    {
      "cell_type": "code",
      "execution_count": null,
      "id": "b1cb2b3b",
      "metadata": {
        "id": "b1cb2b3b"
      },
      "outputs": [],
      "source": [
        "# Create a new column in the original dataframe\n",
        "# Operating on the column 'Col_1', so no need to include axis=0\n",
        "display(df)\n",
        "df['status'] = df['Col_1'].apply(lambda x: 'Low' if x < 35 else 'High')\n",
        "\n",
        "df"
      ]
    },
    {
      "cell_type": "markdown",
      "id": "76521f7b",
      "metadata": {
        "id": "76521f7b"
      },
      "source": [
        "**The function that lambda calls can also be user-defined.**"
      ]
    },
    {
      "cell_type": "code",
      "execution_count": null,
      "id": "d2114e45",
      "metadata": {
        "id": "d2114e45"
      },
      "outputs": [],
      "source": [
        "# create a function that adds two columns\n",
        "# Note that in the function definition, we are passing in\n",
        "# a single object that is expecting to have two values,\n",
        "# addressable by their index number (list-like)\n",
        "def add_two_columns(x):\n",
        "    return x[0] + x[1]\n",
        "\n",
        "# create a new column that is the result of adding the values of two columns together\n",
        "# We are passing in a list of the two columns to add\n",
        "df['Col_4'] = df.apply(lambda x: add_two_columns([x['Col_1'], x['Col_2']]), axis=1)\n",
        "\n",
        "df"
      ]
    },
    {
      "cell_type": "code",
      "execution_count": null,
      "id": "13f35f39",
      "metadata": {
        "id": "13f35f39"
      },
      "outputs": [],
      "source": [
        "# create a function that adds two columns\n",
        "# Note that in the function definition, we are passing in\n",
        "# two objects and adding them directly\n",
        "def add_two_columns_v2(x,y):\n",
        "    return x + y\n",
        "\n",
        "# create a new column that is the result of adding the values of two columns together\n",
        "# We are passing in the two column names individually\n",
        "df['Col_5'] = df.apply(lambda x: add_two_columns_v2(x['Col_1'], x['Col_2']), axis=1)\n",
        "\n",
        "df"
      ]
    }
  ],
  "metadata": {
    "kernelspec": {
      "display_name": "Python 3 (ipykernel)",
      "language": "python",
      "name": "python3"
    },
    "language_info": {
      "codemirror_mode": {
        "name": "ipython",
        "version": 3
      },
      "file_extension": ".py",
      "mimetype": "text/x-python",
      "name": "python",
      "nbconvert_exporter": "python",
      "pygments_lexer": "ipython3",
      "version": "3.9.13"
    },
    "colab": {
      "provenance": []
    }
  },
  "nbformat": 4,
  "nbformat_minor": 5
}