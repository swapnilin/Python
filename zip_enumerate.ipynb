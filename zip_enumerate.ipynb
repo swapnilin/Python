{
  "cells": [
    {
      "cell_type": "markdown",
      "metadata": {
        "id": "_8EWMbuUOKja"
      },
      "source": [
        "# Easier Iteration: Zip and Enumerate"
      ]
    },
    {
      "cell_type": "markdown",
      "metadata": {
        "id": "k0tHxrBBOKji"
      },
      "source": [
        "## Introduction"
      ]
    },
    {
      "cell_type": "markdown",
      "metadata": {
        "id": "VDbr_ROPOKjj"
      },
      "source": [
        "Easy iteration is one of the pervasive underlying design choices which makes Python so expressive and powerful.\n",
        "\n",
        "- You'll often find that you can use loops and comprehensions with all kinds of data containers.\n",
        "\n",
        "In this notebook, we'll look at two helpful built-in functions which we can use to make iteration even easier.\n",
        "\n",
        "- You may find [Python for Data Analysis: Chapter 3](https://wesmckinney.com/book/python-builtin) useful as an additional resource, here."
      ]
    },
    {
      "cell_type": "markdown",
      "metadata": {
        "id": "1gvCZMKAOKjk"
      },
      "source": [
        "## Zip"
      ]
    },
    {
      "cell_type": "markdown",
      "metadata": {
        "id": "7J2lZM3xOKjl"
      },
      "source": [
        "### Overview"
      ]
    },
    {
      "cell_type": "markdown",
      "metadata": {
        "id": "zgzsHe3GOKjm"
      },
      "source": [
        "[Python's built-in Zip() function](https://docs.python.org/3/library/functions.html#zip) “pairs up\" the elements of multiple iterables to create a new iterable.\n",
        "\n",
        "- The elements returned from this iterable will be tuples, and the tuples will contain the pairwise elements of the original iterables.\n",
        "\n",
        "This is illustrated by the diagram below.\n",
        "\n",
        "- We start with two \"[iterable objects](https://docs.python.org/3/glossary.html#term-iterator)\" (on the left).\n",
        "- `zip()` will pair our elements together, so we can iterate through them together."
      ]
    },
    {
      "cell_type": "markdown",
      "metadata": {
        "id": "zHa8xB-fOKjo"
      },
      "source": [
        "![picture](https://raw.githubusercontent.com/gt-cse-6040/skills_oh_week_03/main/iterables_diagram.png)"
      ]
    },
    {
      "cell_type": "markdown",
      "metadata": {
        "id": "DU161nncOKjp"
      },
      "source": [
        "Here's an example in code."
      ]
    },
    {
      "cell_type": "code",
      "execution_count": null,
      "metadata": {
        "id": "E5P5JvhiOKjq",
        "outputId": "91c78a8c-90f7-4f47-ba07-b42ecc9f2c62"
      },
      "outputs": [
        {
          "name": "stdout",
          "output_type": "stream",
          "text": [
            "<zip object at 0x7f2a69338040>\n",
            "[('Albert', 'Waldron'), ('Chris', 'Kinkade'), ('Jen', 'Sherwood')]\n",
            "[('Albert', 'Waldron'), ('Chris', 'Kinkade'), ('Jen', 'Sherwood')]\n"
          ]
        }
      ],
      "source": [
        "first_name = ['Albert', 'Chris', 'Jen']\n",
        "last_name = ['Waldron', 'Kinkade', 'Sherwood']\n",
        "zipped = zip(first_name, last_name)\n",
        "print(zipped)\n",
        "\n",
        "# create a list, using the new \"zipped\" iterable\n",
        "zip_list = list(zipped)\n",
        "print(zip_list)\n",
        "\n",
        "# create the zip list directly\n",
        "zip_list2 = list(zip(first_name, last_name))\n",
        "print(zip_list2)"
      ]
    },
    {
      "cell_type": "markdown",
      "metadata": {
        "id": "hRNygKJLOKju"
      },
      "source": [
        "Should we always convert our iterable to a new data structure? Maybe, maybe not.\n",
        "\n",
        "- Creating a new list from the iterable will use up memory which you might not need.\n",
        "- You may be able to perform the desired operation on your iterable *without* creating a new container. Examples include:\n",
        "  - Filtering\n",
        "  - Sorting\n",
        "- If you need to perform sequence-like operations on the zipped iterables, you will likely need to create a new data structure. Examples include:\n",
        "  - Slicing\n",
        "  - Indexing"
      ]
    },
    {
      "cell_type": "markdown",
      "metadata": {
        "id": "42wvtaQTOKjv"
      },
      "source": [
        "### Creating Other Data Structures"
      ]
    },
    {
      "cell_type": "markdown",
      "metadata": {
        "id": "mjTwuoVrOKjv"
      },
      "source": [
        "Let's try creating a dictionary from a zipped iterable.\n",
        "\n",
        "To create a dictionary using `zip()`, we have to iterate over the zip object and tell Python which item in each tuple should be the key and which should be the value."
      ]
    },
    {
      "cell_type": "code",
      "execution_count": null,
      "metadata": {
        "id": "Sn-J6hTMOKjw",
        "outputId": "e04db639-b242-45aa-cb28-2353ba5c4bf1"
      },
      "outputs": [
        {
          "name": "stdout",
          "output_type": "stream",
          "text": [
            "{'Albert': 'Waldron', 'Chris': 'Kinkade', 'Jen': 'Sherwood'}\n",
            "Albert's last name is: Waldron\n",
            "{'Waldron': 'Albert', 'Kinkade': 'Chris', 'Sherwood': 'Jen'}\n",
            "Kinkade's first name is: Chris\n"
          ]
        }
      ],
      "source": [
        "first_to_last = {first: last for first, last in zip(first_name, last_name)}\n",
        "print(first_to_last)\n",
        "print(f\"Albert's last name is: {first_to_last['Albert']}\")\n",
        "\n",
        "last_to_first = {last: first for first, last in zip(first_name, last_name)}\n",
        "print(last_to_first)\n",
        "print(f\"Kinkade's first name is: {last_to_first['Kinkade']}\")"
      ]
    },
    {
      "cell_type": "markdown",
      "metadata": {
        "id": "E3WJTd8lOKjw"
      },
      "source": [
        "### Zipping Up Several Iterables"
      ]
    },
    {
      "cell_type": "markdown",
      "metadata": {
        "id": "KU-qQDc1OKjx"
      },
      "source": [
        "`zip()` can take an arbitrary number of sequences, and the number of elements it produces is determined by the shortest sequence.\n",
        "\n",
        "See below that first_name and last_name have 3 elements, but seq3 has only 2 elements, so the resulting list also has only 2 elements."
      ]
    },
    {
      "cell_type": "code",
      "execution_count": null,
      "metadata": {
        "id": "GmLBZB3xOKjx",
        "outputId": "512c1776-aa9b-4b69-d290-18d10a84fd75"
      },
      "outputs": [
        {
          "data": {
            "text/plain": [
              "[('Albert', 'Waldron', 1), ('Chris', 'Kinkade', 2)]"
            ]
          },
          "execution_count": 20,
          "metadata": {},
          "output_type": "execute_result"
        }
      ],
      "source": [
        "# unequal length lists, note also that we are also zipping up 3 iterables\n",
        "seq3 = [1, 2]\n",
        "zip_list = list(zip(first_name, last_name, seq3))\n",
        "zip_list"
      ]
    },
    {
      "cell_type": "markdown",
      "metadata": {
        "id": "-YDvFh7iOKjy"
      },
      "source": [
        "## Enumerate"
      ]
    },
    {
      "cell_type": "markdown",
      "metadata": {
        "id": "E__XIcTVOKjy"
      },
      "source": [
        "### Overview"
      ]
    },
    {
      "cell_type": "markdown",
      "metadata": {
        "id": "h5bSqM87OKjy"
      },
      "source": [
        "In Python, we can use `for` loops to loop over all elements of an iterable.\n",
        "\n",
        "- This means you don’t need a counting variable to access items in the iterable.\n",
        "- However, you may occasionally want to track *how many iterations* you've already completed.\n",
        "\n",
        "Rather than creating and incrementing a variable yourself, you can use [Python’s enumerate()](https://docs.python.org/3/library/functions.html#enumerate) to get a counter and the value from the iterable at the same time."
      ]
    },
    {
      "cell_type": "code",
      "execution_count": null,
      "metadata": {
        "id": "C7nxwwQeOKjz",
        "outputId": "1143aaf9-3969-4eec-a399-bd42cc8dd4ee"
      },
      "outputs": [
        {
          "name": "stdout",
          "output_type": "stream",
          "text": [
            "0 Albert\n",
            "1 Chris\n",
            "2 Jen\n"
          ]
        }
      ],
      "source": [
        "# We can do things this way, but it's verbose and can lead\n",
        "# to bugs if we aren't careful\n",
        "index = 0\n",
        "for value in first_name:\n",
        "    print(index, value)\n",
        "    # Increment our counter\n",
        "    index += 1"
      ]
    },
    {
      "cell_type": "markdown",
      "metadata": {
        "id": "VaFDUObBOKjz"
      },
      "source": [
        "`enumerate()` returns a sequence of (i, value) tuples:"
      ]
    },
    {
      "cell_type": "code",
      "execution_count": null,
      "metadata": {
        "id": "AXk4_pfnOKj0",
        "outputId": "eaa33404-5a6b-42bd-f676-b79f88447585"
      },
      "outputs": [
        {
          "name": "stdout",
          "output_type": "stream",
          "text": [
            "0 Albert\n",
            "1 Chris\n",
            "2 Jen\n"
          ]
        }
      ],
      "source": [
        "# Instead of 4 lines, we now only need 2.\n",
        "# This is functionally identical to the example\n",
        "# above.\n",
        "for index, value in enumerate(first_name):\n",
        "    print(index, value)"
      ]
    },
    {
      "cell_type": "markdown",
      "metadata": {
        "id": "1PNZ_qG-OKj0"
      },
      "source": [
        "### Creating Data Containers with Enumerate"
      ]
    },
    {
      "cell_type": "markdown",
      "metadata": {
        "id": "nGFaQtqPOKj0"
      },
      "source": [
        "Let's look at a few more examples."
      ]
    },
    {
      "cell_type": "code",
      "execution_count": null,
      "metadata": {
        "id": "LGqMmVVXOKj1",
        "outputId": "30aa3e36-af08-4361-d53a-fd3c6df4ab53"
      },
      "outputs": [
        {
          "data": {
            "text/plain": [
              "[(0, 'Albert'), (1, 'Chris'), (2, 'Jen')]"
            ]
          },
          "execution_count": 5,
          "metadata": {},
          "output_type": "execute_result"
        }
      ],
      "source": [
        "# Let's create a list of tuples\n",
        "enum_list = []\n",
        "for pair in enumerate(first_name):\n",
        "    # Append the tuple to the list\n",
        "    enum_list.append(pair)\n",
        "\n",
        "enum_list"
      ]
    },
    {
      "cell_type": "code",
      "execution_count": null,
      "metadata": {
        "id": "FgWmw5uZOKj1",
        "outputId": "e0904960-41dd-4acb-ee5e-d51f3707aebb"
      },
      "outputs": [
        {
          "name": "stdout",
          "output_type": "stream",
          "text": [
            "Original Sequence: ['Albert', 'Chris', 'Jen']\n",
            "Jen is in sequence position: 2\n"
          ]
        }
      ],
      "source": [
        "# Let's create a dictionary which allows us to check\n",
        "# what a given element's index is in a sequence\n",
        "enum_dict = dict()\n",
        "for index, value in enumerate(first_name):\n",
        "    enum_dict[value] = index\n",
        "\n",
        "print(\"Original Sequence:\", first_name)\n",
        "# What position in the original list\n",
        "# does \"Jen\" occupy?\n",
        "print(f\"Jen is in sequence position: {enum_dict['Jen']}\")"
      ]
    },
    {
      "cell_type": "markdown",
      "metadata": {
        "id": "iHvXmdiROKj2"
      },
      "source": [
        "### References"
      ]
    },
    {
      "cell_type": "markdown",
      "metadata": {
        "id": "wQI_5A0UOKj2"
      },
      "source": [
        "- If you want more details on `enumerate()`, you may find this article helpful: https://realpython.com/python-enumerate/."
      ]
    }
  ],
  "metadata": {
    "kernelspec": {
      "display_name": "Python 3",
      "language": "python",
      "name": "python3"
    },
    "language_info": {
      "codemirror_mode": {
        "name": "ipython",
        "version": 3
      },
      "file_extension": ".py",
      "mimetype": "text/x-python",
      "name": "python",
      "nbconvert_exporter": "python",
      "pygments_lexer": "ipython3",
      "version": "3.10.12"
    },
    "colab": {
      "provenance": []
    }
  },
  "nbformat": 4,
  "nbformat_minor": 0
}